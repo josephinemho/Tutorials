{
 "cells": [
  {
   "cell_type": "markdown",
   "metadata": {},
   "source": [
    "https://git.generalassemb.ly/cpleasants/pythpt-2018-11-19-w5d2/blob/master/Homework/APIs-Homework.md\n",
    "## Python Modules, Packages, and APIs: Practice Problems"
   ]
  },
  {
   "cell_type": "markdown",
   "metadata": {},
   "source": [
    "Tip: Before putting your code in a .py file, I like to write my code out in a Jupyter notebook first to make sure everything is tested and working. THEN I copy and paste the final code into a .py file and execute it from the Terminal using the command `python solution.py`"
   ]
  },
  {
   "cell_type": "markdown",
   "metadata": {},
   "source": [
    "### Skill you're practicing: Importing and using modules/packages.\n",
    "Cody and his friends Heather and Matt are going on a road trip across the Western United States and Canada. They want to visit several landmarks, national parks, and big cities. Here's their agenda:\n",
    "```\n",
    "Space Needle\n",
    "Crater Lake\n",
    "Golden Gate Bridge\n",
    "Yosemite National Park\n",
    "Las Vegas, Nevada\n",
    "Grand Canyon National Park\n",
    "Aspen, Colorado\n",
    "Mount Rushmore\n",
    "Yellowstone National Park\n",
    "Sandpoint, Idaho\n",
    "Banff National Park\n",
    "Capilano Suspension Bridge\n",
    "```\n",
    "Your job is to put these destinations into a list of strings called `destinations`. Then, import the [geocoder module](https://geocoder.readthedocs.io/providers/ArcGIS.html#geocoding) and use it to translate each of the landmarks into latitude-longitude coordinates. You'll need to loop through the list and print each location's latitude and longitude. We will be using `arcgis` to translate the places to coordinates. Visit the [docs](https://geocoder.readthedocs.io/results.html) for more sample code."
   ]
  },
  {
   "cell_type": "code",
   "execution_count": 1,
   "metadata": {},
   "outputs": [
    {
     "ename": "ModuleNotFoundError",
     "evalue": "No module named 'geocoder'",
     "output_type": "error",
     "traceback": [
      "\u001b[0;31m\u001b[0m",
      "\u001b[0;31mModuleNotFoundError\u001b[0mTraceback (most recent call last)",
      "\u001b[0;32m<ipython-input-1-9ea56cf7725e>\u001b[0m in \u001b[0;36m<module>\u001b[0;34m()\u001b[0m\n\u001b[0;32m----> 1\u001b[0;31m \u001b[0;32mimport\u001b[0m \u001b[0mgeocoder\u001b[0m\u001b[0;34m\u001b[0m\u001b[0m\n\u001b[0m",
      "\u001b[0;31mModuleNotFoundError\u001b[0m: No module named 'geocoder'"
     ]
    }
   ],
   "source": [
    "import geocoder"
   ]
  },
  {
   "cell_type": "code",
   "execution_count": 2,
   "metadata": {},
   "outputs": [
    {
     "name": "stdout",
     "output_type": "stream",
     "text": [
      "Collecting geocoder\n",
      "  Downloading https://files.pythonhosted.org/packages/4f/6b/13166c909ad2f2d76b929a4227c952630ebaf0d729f6317eb09cbceccbab/geocoder-1.38.1-py2.py3-none-any.whl (98kB)\n",
      "\u001b[K    100% |████████████████████████████████| 102kB 892kB/s a 0:00:01\n",
      "\u001b[?25hCollecting click (from geocoder)\n",
      "  Downloading https://files.pythonhosted.org/packages/fa/37/45185cb5abbc30d7257104c434fe0b07e5a195a6847506c074527aa599ec/Click-7.0-py2.py3-none-any.whl (81kB)\n",
      "\u001b[K    100% |████████████████████████████████| 81kB 2.0MB/s ta 0:00:01\n",
      "\u001b[?25hCollecting ratelim (from geocoder)\n",
      "  Downloading https://files.pythonhosted.org/packages/f2/98/7e6d147fd16a10a5f821db6e25f192265d6ecca3d82957a4fdd592cad49c/ratelim-0.1.6-py2.py3-none-any.whl\n",
      "Requirement already satisfied: requests in /opt/conda/lib/python3.6/site-packages (from geocoder)\n",
      "Requirement already satisfied: six in /opt/conda/lib/python3.6/site-packages (from geocoder)\n",
      "Collecting future (from geocoder)\n",
      "  Downloading https://files.pythonhosted.org/packages/90/52/e20466b85000a181e1e144fd8305caf2cf475e2f9674e797b222f8105f5f/future-0.17.1.tar.gz (829kB)\n",
      "\u001b[K    100% |████████████████████████████████| 829kB 664kB/s ta 0:00:01\n",
      "\u001b[?25hRequirement already satisfied: decorator in /opt/conda/lib/python3.6/site-packages (from ratelim->geocoder)\n",
      "Requirement already satisfied: chardet<3.1.0,>=3.0.2 in /opt/conda/lib/python3.6/site-packages (from requests->geocoder)\n",
      "Requirement already satisfied: idna<2.7,>=2.5 in /opt/conda/lib/python3.6/site-packages (from requests->geocoder)\n",
      "Requirement already satisfied: urllib3<1.23,>=1.21.1 in /opt/conda/lib/python3.6/site-packages (from requests->geocoder)\n",
      "Requirement already satisfied: certifi>=2017.4.17 in /opt/conda/lib/python3.6/site-packages (from requests->geocoder)\n",
      "Building wheels for collected packages: future\n",
      "  Running setup.py bdist_wheel for future ... \u001b[?25ldone\n",
      "\u001b[?25h  Stored in directory: /home/jovyan/.cache/pip/wheels/0c/61/d2/d6b7317325828fbb39ee6ad559dbe4664d0896da4721bf379e\n",
      "Successfully built future\n",
      "Installing collected packages: click, ratelim, future, geocoder\n",
      "Successfully installed click-7.0 future-0.17.1 geocoder-1.38.1 ratelim-0.1.6\n",
      "\u001b[33mYou are using pip version 9.0.1, however version 18.1 is available.\n",
      "You should consider upgrading via the 'pip install --upgrade pip' command.\u001b[0m\n"
     ]
    }
   ],
   "source": [
    "# If it's not yet installed, use pip to install it\n",
    "\n",
    "!pip install geocoder"
   ]
  },
  {
   "cell_type": "code",
   "execution_count": 6,
   "metadata": {},
   "outputs": [
    {
     "name": "stdout",
     "output_type": "stream",
     "text": [
      "[34.05538000000007, -117.18258999999995]\n"
     ]
    }
   ],
   "source": [
    "# Sample code\n",
    "\n",
    "import geocoder\n",
    "\n",
    "g = geocoder.arcgis('Redlands, CA')\n",
    "\n",
    "print(g.latlng) # latlng is a tuple with a length of 2."
   ]
  },
  {
   "cell_type": "code",
   "execution_count": 8,
   "metadata": {
    "scrolled": true
   },
   "outputs": [
    {
     "data": {
      "text/plain": [
       "34.05538000000007"
      ]
     },
     "execution_count": 8,
     "metadata": {},
     "output_type": "execute_result"
    }
   ],
   "source": [
    "g.latlng[0]"
   ]
  },
  {
   "cell_type": "code",
   "execution_count": 10,
   "metadata": {},
   "outputs": [
    {
     "name": "stdout",
     "output_type": "stream",
     "text": [
      "Space Needle is located at ( 47.619930005049056 -122.34867000504896 )\n",
      "Crater Lake is located at ( 42.91161000000005 -122.14828999999997 )\n",
      "Golden Gate Bridge is located at ( 37.81827000000004 -122.47841999999997 )\n",
      "Yosemite National Park is located at ( 37.748950000000036 -119.58848999999998 )\n",
      "Las Vegas, Nevada is located at ( 36.17193000000003 -115.14000999999996 )\n",
      "Grand Canyon National Park is located at ( 36.05726000000004 -112.10962999999998 )\n",
      "Aspen, Colorado is located at ( 39.19002000000006 -106.81817999999998 )\n",
      "Mount Rushmore is located at ( 43.88027000000005 -103.45879999999994 )\n",
      "Yellowstone National Park is located at ( 44.97754000000003 -110.69834999999995 )\n",
      "Sandpoint, Idaho is located at ( 48.27295000000004 -116.54780999999997 )\n",
      "Banff National Park is located at ( 51.178029948929584 -115.57079994056231 )\n",
      "Capilano Suspension Bridge is located at ( 49.34319999942312 -123.11326006001453 )\n"
     ]
    }
   ],
   "source": [
    "import geocoder\n",
    "\n",
    "# Declare destinations list here.\n",
    "destinations = [\n",
    "    \"Space Needle\",\n",
    "    \"Crater Lake\",\n",
    "    \"Golden Gate Bridge\",\n",
    "    \"Yosemite National Park\",\n",
    "    \"Las Vegas, Nevada\",\n",
    "    \"Grand Canyon National Park\",\n",
    "    \"Aspen, Colorado\",\n",
    "    \"Mount Rushmore\",\n",
    "    \"Yellowstone National Park\",\n",
    "    \"Sandpoint, Idaho\",\n",
    "    \"Banff National Park\",\n",
    "    \"Capilano Suspension Bridge\"\n",
    "               ]\n",
    "\n",
    "# Loop through each destination.\n",
    "for point in destinations:\n",
    "#   Get the lat-long coordinates from `geocoder.arcgis`.\n",
    "    g = geocoder.arcgis(point)\n",
    "#   Print out the place name and the coordinates.\n",
    "    print(point, \"is located at (\",g.latlng[0],g.latlng[1],\")\")"
   ]
  },
  {
   "cell_type": "markdown",
   "metadata": {},
   "source": [
    "Now that you've worked through your code, copy, paste and CLEAN your final code into a .py file and execute it from the Terminal using the following command `python solution.py`. It should look somethig like this:"
   ]
  },
  {
   "cell_type": "code",
   "execution_count": 15,
   "metadata": {},
   "outputs": [
    {
     "name": "stdout",
     "output_type": "stream",
     "text": [
      "Space Needle is located at (47.6199,-122.3487)\n",
      "Crater Lake is located at (42.9116,-122.1483)\n",
      "Golden Gate Bridge is located at (37.8183,-122.4784)\n",
      "Yosemite National Park is located at (37.749,-119.5885)\n",
      "Las Vegas, Nevada is located at (36.1719,-115.14)\n",
      "Grand Canyon National Park is located at (36.0573,-112.1096)\n",
      "Aspen, Colorado is located at (39.19,-106.8182)\n",
      "Mount Rushmore is located at (43.8803,-103.4588)\n",
      "Yellowstone National Park is located at (44.9775,-110.6983)\n",
      "Sandpoint, Idaho is located at (48.273,-116.5478)\n",
      "Banff National Park is located at (51.178,-115.5708)\n",
      "Capilano Suspension Bridge is located at (49.3432,-123.1133)\n"
     ]
    }
   ],
   "source": [
    "import geocoder\n",
    "\n",
    "destinations = [\n",
    "    \"Space Needle\",\n",
    "    \"Crater Lake\",\n",
    "    \"Golden Gate Bridge\",\n",
    "    \"Yosemite National Park\",\n",
    "    \"Las Vegas, Nevada\",\n",
    "    \"Grand Canyon National Park\",\n",
    "    \"Aspen, Colorado\",\n",
    "    \"Mount Rushmore\",\n",
    "    \"Yellowstone National Park\",\n",
    "    \"Sandpoint, Idaho\",\n",
    "    \"Banff National Park\",\n",
    "    \"Capilano Suspension Bridge\"\n",
    "               ]\n",
    "\n",
    "for point in destinations:\n",
    "    g = geocoder.arcgis(point)\n",
    "    print(f\"{point} is located at ({round(g.latlng[0],4)},{round(g.latlng[1],4)})\")"
   ]
  },
  {
   "cell_type": "markdown",
   "metadata": {},
   "source": [
    "## Problem 2: Heather Weather"
   ]
  },
  {
   "cell_type": "markdown",
   "metadata": {},
   "source": [
    "### Skill you're practicing: Calling an API.\n",
    "Cody is satisfied by geolocating his landmarks, but Heather wants to take it one step further and get the current weather at each location. Help Heather with some code that calls an API to get current weather based on latitude-longitude coordinates. Take Cody's code from Problem 1 and add an API call to [Dark Sky API](https://darksky.net/dev/register).\n",
    "\n",
    "Follow the instructions to register and how to use your personal key to call an API. \n",
    "\n",
    "Tip: To safely handle keys, instead of putting it in my key here, I'm going to paste it in a separate file on my local computer, which will then be called in. This way, my private key won't be hardcoded into my code for you (and the world) to see! "
   ]
  },
  {
   "cell_type": "code",
   "execution_count": 12,
   "metadata": {},
   "outputs": [],
   "source": [
    "f = open('my_private_key','r')\n",
    "my_key = f.read()\n",
    "f.close()"
   ]
  },
  {
   "cell_type": "code",
   "execution_count": 34,
   "metadata": {},
   "outputs": [
    {
     "name": "stdout",
     "output_type": "stream",
     "text": [
      "Space Needle is located at (47.6199, -122.3487)\n",
      "At Space Needle right now, it's Mostly Cloudy with a temperature of 45.57\n",
      "Crater Lake is located at (42.9116, -122.1483)\n",
      "At Crater Lake right now, it's Mostly Cloudy with a temperature of 28.99\n",
      "Golden Gate Bridge is located at (37.8183, -122.4784)\n",
      "At Golden Gate Bridge right now, it's Partly Cloudy with a temperature of 56.95\n",
      "Yosemite National Park is located at (37.749, -119.5885)\n",
      "At Yosemite National Park right now, it's Partly Cloudy with a temperature of 51.44\n",
      "Las Vegas, Nevada is located at (36.1719, -115.14)\n",
      "At Las Vegas, Nevada right now, it's Clear with a temperature of 66.26\n",
      "Grand Canyon National Park is located at (36.0573, -112.1096)\n",
      "At Grand Canyon National Park right now, it's Clear with a temperature of 49.91\n",
      "Aspen, Colorado is located at (39.19, -106.8182)\n",
      "At Aspen, Colorado right now, it's Partly Cloudy with a temperature of 26.08\n",
      "Mount Rushmore is located at (43.8803, -103.4588)\n",
      "At Mount Rushmore right now, it's Clear with a temperature of 28.82\n",
      "Yellowstone National Park is located at (44.9775, -110.6983)\n",
      "At Yellowstone National Park right now, it's Partly Cloudy with a temperature of 22.47\n",
      "Sandpoint, Idaho is located at (48.273, -116.5478)\n",
      "At Sandpoint, Idaho right now, it's Clear with a temperature of 33.85\n",
      "Banff National Park is located at (51.178, -115.5708)\n",
      "At Banff National Park right now, it's Clear with a temperature of 18.15\n",
      "Capilano Suspension Bridge is located at (49.3432, -123.1133)\n",
      "At Capilano Suspension Bridge right now, it's Drizzle with a temperature of 40.92\n"
     ]
    }
   ],
   "source": [
    "# Import the module (top of the file).\n",
    "import requests\n",
    "\n",
    "\n",
    "API_BASE_URL = f\"https://api.darksky.net/forecast/{my_key}/\"\n",
    "\n",
    "# Previous code still here.\n",
    "import geocoder\n",
    "\n",
    "destinations = [\n",
    "    \"Space Needle\",\n",
    "    \"Crater Lake\",\n",
    "    \"Golden Gate Bridge\",\n",
    "    \"Yosemite National Park\",\n",
    "    \"Las Vegas, Nevada\",\n",
    "    \"Grand Canyon National Park\",\n",
    "    \"Aspen, Colorado\",\n",
    "    \"Mount Rushmore\",\n",
    "    \"Yellowstone National Park\",\n",
    "    \"Sandpoint, Idaho\",\n",
    "    \"Banff National Park\",\n",
    "    \"Capilano Suspension Bridge\"\n",
    "               ]\n",
    "\n",
    "for point in destinations:\n",
    "    g = geocoder.arcgis(point)\n",
    "    lat, lon = round(g.latlng[0],4), round(g.latlng[1], 4)\n",
    "    print(f\"{point} is located at ({lat}, {lon})\")\n",
    "\n",
    "    # full_api_url = API_BASE_URL + latitude + \",\" + longitude\n",
    "    result = requests.request('GET', API_BASE_URL + str(lat) + \",\" + str(lon)).json()\n",
    "    summary = result[\"currently\"][\"summary\"]\n",
    "    temperature = result[\"currently\"][\"temperature\"]\n",
    "    \n",
    "    # From the result, print out the summary and current temperature.\n",
    "    print(f\"At {point} right now, it's {summary} with a temperature of {temperature}\")"
   ]
  },
  {
   "cell_type": "markdown",
   "metadata": {},
   "source": [
    "## Bonus: Format for Matt\n",
    "### Skill you're practicing: String formatting.\n",
    "Matt likes Heather's idea of getting the weather for each location they plan on visiting, but he thinks the data is unreadable. Modify your code to:\n",
    "\n",
    "1. Add a newline after each location (\\n).\n",
    "2. Add an F.\n",
    "3. Add a unicode degree character.\n",
    "4. Display only one decimal place on the temperature (think about string formatting).\n"
   ]
  },
  {
   "cell_type": "code",
   "execution_count": 48,
   "metadata": {},
   "outputs": [
    {
     "name": "stdout",
     "output_type": "stream",
     "text": [
      "Space Needle is located at (47.6199, -122.3487)\n",
      "At Space Needle right now, it's Mostly Cloudy with a temperature of 45.5° F\n",
      "\n",
      "Crater Lake is located at (42.9116, -122.1483)\n",
      "At Crater Lake right now, it's Mostly Cloudy with a temperature of 29.3° F\n",
      "\n",
      "Golden Gate Bridge is located at (37.8183, -122.4784)\n",
      "At Golden Gate Bridge right now, it's Partly Cloudy with a temperature of 57.0° F\n",
      "\n",
      "Yosemite National Park is located at (37.749, -119.5885)\n",
      "At Yosemite National Park right now, it's Partly Cloudy with a temperature of 51.5° F\n",
      "\n",
      "Las Vegas, Nevada is located at (36.1719, -115.14)\n",
      "At Las Vegas, Nevada right now, it's Clear with a temperature of 66.7° F\n",
      "\n",
      "Grand Canyon National Park is located at (36.0573, -112.1096)\n",
      "At Grand Canyon National Park right now, it's Clear with a temperature of 49.6° F\n",
      "\n",
      "Aspen, Colorado is located at (39.19, -106.8182)\n",
      "At Aspen, Colorado right now, it's Partly Cloudy with a temperature of 25.9° F\n",
      "\n",
      "Mount Rushmore is located at (43.8803, -103.4588)\n",
      "At Mount Rushmore right now, it's Clear with a temperature of 28.6° F\n",
      "\n",
      "Yellowstone National Park is located at (44.9775, -110.6983)\n",
      "At Yellowstone National Park right now, it's Partly Cloudy with a temperature of 22.6° F\n",
      "\n",
      "Sandpoint, Idaho is located at (48.273, -116.5478)\n",
      "At Sandpoint, Idaho right now, it's Partly Cloudy with a temperature of 33.9° F\n",
      "\n",
      "Banff National Park is located at (51.178, -115.5708)\n",
      "At Banff National Park right now, it's Clear with a temperature of 18.3° F\n",
      "\n",
      "Capilano Suspension Bridge is located at (49.3432, -123.1133)\n",
      "At Capilano Suspension Bridge right now, it's Drizzle with a temperature of 41.1° F\n",
      "\n"
     ]
    }
   ],
   "source": [
    "# Formatting with string interpolation\n",
    "\n",
    "for point in destinations:\n",
    "    g = geocoder.arcgis(point)\n",
    "    lat, lon = round(g.latlng[0],4), round(g.latlng[1], 4)\n",
    "    print(\"{} is located at ({}, {})\".format(point,lat,lon)) \n",
    "\n",
    "    # full_api_url = API_BASE_URL + latitude + \",\" + longitude\n",
    "    result = requests.request('GET', API_BASE_URL + str(lat) + \",\" + str(lon)).json()\n",
    "    summary = result[\"currently\"][\"summary\"]\n",
    "    temperature = result[\"currently\"][\"temperature\"]\n",
    "    \n",
    "    # From the result, print out the summary and current temperature.\n",
    "    print(\"At {} right now, it's {} with a temperature of {:.1f}\\u00b0 F\\n\".format(point,summary,temperature))"
   ]
  },
  {
   "cell_type": "code",
   "execution_count": 44,
   "metadata": {},
   "outputs": [
    {
     "name": "stdout",
     "output_type": "stream",
     "text": [
      "Space Needle is located at (47.6199, -122.3487)\n",
      "At Space Needle right now, it's Mostly Cloudy with a temperature of 45.6° F\n",
      "\n",
      "Crater Lake is located at (42.9116, -122.1483)\n",
      "At Crater Lake right now, it's Flurries with a temperature of 29.2° F\n",
      "\n",
      "Golden Gate Bridge is located at (37.8183, -122.4784)\n",
      "At Golden Gate Bridge right now, it's Partly Cloudy with a temperature of 57.0° F\n",
      "\n",
      "Yosemite National Park is located at (37.749, -119.5885)\n",
      "At Yosemite National Park right now, it's Partly Cloudy with a temperature of 51.5° F\n",
      "\n",
      "Las Vegas, Nevada is located at (36.1719, -115.14)\n",
      "At Las Vegas, Nevada right now, it's Clear with a temperature of 66.6° F\n",
      "\n",
      "Grand Canyon National Park is located at (36.0573, -112.1096)\n",
      "At Grand Canyon National Park right now, it's Clear with a temperature of 49.8° F\n",
      "\n",
      "Aspen, Colorado is located at (39.19, -106.8182)\n",
      "At Aspen, Colorado right now, it's Partly Cloudy with a temperature of 26.0° F\n",
      "\n",
      "Mount Rushmore is located at (43.8803, -103.4588)\n",
      "At Mount Rushmore right now, it's Clear with a temperature of 28.7° F\n",
      "\n",
      "Yellowstone National Park is located at (44.9775, -110.6983)\n",
      "At Yellowstone National Park right now, it's Partly Cloudy with a temperature of 22.6° F\n",
      "\n",
      "Sandpoint, Idaho is located at (48.273, -116.5478)\n",
      "At Sandpoint, Idaho right now, it's Partly Cloudy with a temperature of 33.9° F\n",
      "\n",
      "Banff National Park is located at (51.178, -115.5708)\n",
      "At Banff National Park right now, it's Clear with a temperature of 18.3° F\n",
      "\n",
      "Capilano Suspension Bridge is located at (49.3432, -123.1133)\n",
      "At Capilano Suspension Bridge right now, it's Drizzle with a temperature of 41.0° F\n",
      "\n"
     ]
    }
   ],
   "source": [
    "# Formatting with f-strings\n",
    "\n",
    "for point in destinations:\n",
    "    g = geocoder.arcgis(point)\n",
    "    lat, lon = round(g.latlng[0],4), round(g.latlng[1], 4)\n",
    "    print(f\"{point} is located at ({lat}, {lon})\")\n",
    "\n",
    "    # full_api_url = API_BASE_URL + latitude + \",\" + longitude\n",
    "    result = requests.request('GET', API_BASE_URL + str(lat) + \",\" + str(lon)).json()\n",
    "    summary = result[\"currently\"][\"summary\"]\n",
    "    temperature = result[\"currently\"][\"temperature\"]\n",
    "    \n",
    "    # From the result, print out the summary and current temperature.\n",
    "    print(f\"At {point} right now, it's {summary} with a temperature of {temperature:.1f}\\u00b0 F\\n\")"
   ]
  }
 ],
 "metadata": {
  "kernelspec": {
   "display_name": "Python 3",
   "language": "python",
   "name": "python3"
  },
  "language_info": {
   "codemirror_mode": {
    "name": "ipython",
    "version": 3
   },
   "file_extension": ".py",
   "mimetype": "text/x-python",
   "name": "python",
   "nbconvert_exporter": "python",
   "pygments_lexer": "ipython3",
   "version": "3.6.3"
  }
 },
 "nbformat": 4,
 "nbformat_minor": 2
}
