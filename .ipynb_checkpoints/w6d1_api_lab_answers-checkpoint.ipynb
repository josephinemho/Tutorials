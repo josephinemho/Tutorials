{
 "cells": [
  {
   "cell_type": "markdown",
   "metadata": {},
   "source": [
    "https://git.generalassemb.ly/cpleasants/pythpt-2018-11-19-w6d1/blob/master/Labs/Lab%205%20Instructions.md\n",
    "## Part 1: The OMDB API"
   ]
  },
  {
   "cell_type": "code",
   "execution_count": 1,
   "metadata": {},
   "outputs": [],
   "source": [
    "# TODO: Import the necessary modules\n",
    "\n",
    "import requests"
   ]
  },
  {
   "cell_type": "markdown",
   "metadata": {},
   "source": [
    "## Part 2: Setting Things Up"
   ]
  },
  {
   "cell_type": "code",
   "execution_count": 2,
   "metadata": {},
   "outputs": [],
   "source": [
    "# TODO: Create a function, get_api_key(), \n",
    "# which reads your API key from your omdb-api-key.txt file and returns the clean key\n",
    "\n",
    "def get_api_key():\n",
    "    f = open('../work/omdb-api-key.txt','r')\n",
    "    my_key = f.read().strip()\n",
    "    return my_key\n",
    "    f.close()"
   ]
  },
  {
   "cell_type": "code",
   "execution_count": 3,
   "metadata": {
    "scrolled": true
   },
   "outputs": [
    {
     "data": {
      "text/plain": [
       "'d0cbfefb'"
      ]
     },
     "execution_count": 3,
     "metadata": {},
     "output_type": "execute_result"
    }
   ],
   "source": [
    "apikey = get_api_key()\n",
    "apikey"
   ]
  },
  {
   "cell_type": "code",
   "execution_count": 4,
   "metadata": {},
   "outputs": [
    {
     "name": "stdout",
     "output_type": "stream",
     "text": [
      "d0cbfefb\n"
     ]
    }
   ],
   "source": [
    "print(get_api_key())"
   ]
  },
  {
   "cell_type": "markdown",
   "metadata": {},
   "source": [
    "## Part 3: Adjusting Existing Code"
   ]
  },
  {
   "cell_type": "code",
   "execution_count": 5,
   "metadata": {},
   "outputs": [],
   "source": [
    "# Keep your Movie class as-is!\n",
    "\n",
    "class Movie:\n",
    "    def __init__(self, movie_data):\n",
    "        self.movie_data = movie_data\n",
    "\n",
    "    def get_movie_title(self):\n",
    "        return self.movie_data['Title']\n",
    "\n",
    "    def get_movie_rating(self, source = 'Rotten Tomatoes'):\n",
    "        for rating in self.movie_data['Ratings']:\n",
    "            if rating['Source'] == source:\n",
    "                return(rating['Value'])\n",
    "        return(f\"- Wait - Rating for source {source} was not found!\")"
   ]
  },
  {
   "cell_type": "markdown",
   "metadata": {},
   "source": [
    "### Change `return_single_movie_object()` so that it instead returns the movie data dictionary you get from the API call. \n",
    "You'll know you're ready to move on when `print_all_ratings()` works on a list of movie titles and `return_single_movie_object()` works on a single movie title."
   ]
  },
  {
   "cell_type": "code",
   "execution_count": 6,
   "metadata": {},
   "outputs": [
    {
     "name": "stdout",
     "output_type": "stream",
     "text": [
      "http://www.omdbapi.com/?&apikey=d0cbfefb&t=blade\n"
     ]
    }
   ],
   "source": [
    "# Construct the URL and then get() the result. Don't forget to change the result into a Python dictionary object!\n",
    "\n",
    "base_url = 'http://www.omdbapi.com/?'\n",
    "apikey = '&apikey='+get_api_key()\n",
    "search_term = '&t=blade'\n",
    "\n",
    "url = base_url+apikey+search_term\n",
    "print(url)"
   ]
  },
  {
   "cell_type": "code",
   "execution_count": 7,
   "metadata": {},
   "outputs": [],
   "source": [
    "result = requests.request('GET',url).json()"
   ]
  },
  {
   "cell_type": "code",
   "execution_count": 8,
   "metadata": {
    "scrolled": true
   },
   "outputs": [
    {
     "data": {
      "text/plain": [
       "{'Title': 'Blade',\n",
       " 'Year': '1998',\n",
       " 'Rated': 'R',\n",
       " 'Released': '21 Aug 1998',\n",
       " 'Runtime': '120 min',\n",
       " 'Genre': 'Action, Horror, Sci-Fi',\n",
       " 'Director': 'Stephen Norrington',\n",
       " 'Writer': 'David S. Goyer',\n",
       " 'Actors': \"Wesley Snipes, Stephen Dorff, Kris Kristofferson, N'Bushe Wright\",\n",
       " 'Plot': 'A half-vampire, half-mortal man becomes a protector of the mortal race, while slaying evil vampires.',\n",
       " 'Language': 'English, Russian, Serbian',\n",
       " 'Country': 'USA',\n",
       " 'Awards': '4 wins & 8 nominations.',\n",
       " 'Poster': 'https://m.media-amazon.com/images/M/MV5BMTQ4MzkzNjcxNV5BMl5BanBnXkFtZTcwNzk4NTU0Mg@@._V1_SX300.jpg',\n",
       " 'Ratings': [{'Source': 'Internet Movie Database', 'Value': '7.1/10'},\n",
       "  {'Source': 'Rotten Tomatoes', 'Value': '53%'},\n",
       "  {'Source': 'Metacritic', 'Value': '45/100'}],\n",
       " 'Metascore': '45',\n",
       " 'imdbRating': '7.1',\n",
       " 'imdbVotes': '221,066',\n",
       " 'imdbID': 'tt0120611',\n",
       " 'Type': 'movie',\n",
       " 'DVD': '22 Dec 1998',\n",
       " 'BoxOffice': 'N/A',\n",
       " 'Production': 'New Line Cinema',\n",
       " 'Website': 'N/A',\n",
       " 'Response': 'True'}"
      ]
     },
     "execution_count": 8,
     "metadata": {},
     "output_type": "execute_result"
    }
   ],
   "source": [
    "result"
   ]
  },
  {
   "cell_type": "code",
   "execution_count": 9,
   "metadata": {
    "scrolled": true
   },
   "outputs": [
    {
     "data": {
      "text/plain": [
       "dict"
      ]
     },
     "execution_count": 9,
     "metadata": {},
     "output_type": "execute_result"
    }
   ],
   "source": [
    "type(result)"
   ]
  },
  {
   "cell_type": "code",
   "execution_count": 10,
   "metadata": {},
   "outputs": [],
   "source": [
    "def return_single_movie_object(movie_title):\n",
    "    \"\"\"\n",
    "    Search through list of movie object dictionaries and return the object \n",
    "    if the Title of that object matches the movie title passed.\n",
    "    Parameters:\n",
    "    * movie_title: str, title of movie whose dict object is to be returned.\n",
    "    \"\"\"\n",
    "    url = 'http://www.omdbapi.com/?&apikey='+get_api_key()+'&t='+movie_title\n",
    "    result = requests.request('GET',url).json()\n",
    "    for movie_object in result:\n",
    "        if result['Title'] == movie_title:\n",
    "            return result\n"
   ]
  },
  {
   "cell_type": "code",
   "execution_count": 11,
   "metadata": {
    "scrolled": true
   },
   "outputs": [
    {
     "data": {
      "text/plain": [
       "{'Title': 'Blade',\n",
       " 'Year': '1998',\n",
       " 'Rated': 'R',\n",
       " 'Released': '21 Aug 1998',\n",
       " 'Runtime': '120 min',\n",
       " 'Genre': 'Action, Horror, Sci-Fi',\n",
       " 'Director': 'Stephen Norrington',\n",
       " 'Writer': 'David S. Goyer',\n",
       " 'Actors': \"Wesley Snipes, Stephen Dorff, Kris Kristofferson, N'Bushe Wright\",\n",
       " 'Plot': 'A half-vampire, half-mortal man becomes a protector of the mortal race, while slaying evil vampires.',\n",
       " 'Language': 'English, Russian, Serbian',\n",
       " 'Country': 'USA',\n",
       " 'Awards': '4 wins & 8 nominations.',\n",
       " 'Poster': 'https://m.media-amazon.com/images/M/MV5BMTQ4MzkzNjcxNV5BMl5BanBnXkFtZTcwNzk4NTU0Mg@@._V1_SX300.jpg',\n",
       " 'Ratings': [{'Source': 'Internet Movie Database', 'Value': '7.1/10'},\n",
       "  {'Source': 'Rotten Tomatoes', 'Value': '53%'},\n",
       "  {'Source': 'Metacritic', 'Value': '45/100'}],\n",
       " 'Metascore': '45',\n",
       " 'imdbRating': '7.1',\n",
       " 'imdbVotes': '221,066',\n",
       " 'imdbID': 'tt0120611',\n",
       " 'Type': 'movie',\n",
       " 'DVD': '22 Dec 1998',\n",
       " 'BoxOffice': 'N/A',\n",
       " 'Production': 'New Line Cinema',\n",
       " 'Website': 'N/A',\n",
       " 'Response': 'True'}"
      ]
     },
     "execution_count": 11,
     "metadata": {},
     "output_type": "execute_result"
    }
   ],
   "source": [
    "return_single_movie_object('Blade')"
   ]
  },
  {
   "cell_type": "code",
   "execution_count": 12,
   "metadata": {},
   "outputs": [],
   "source": [
    "# Go into your print_all_ratings() function and get rid of the % that appears when you call this_movie_instance.get_movie_rating()\n",
    "\n",
    "def print_all_ratings(movie_list):\n",
    "    \"\"\"\n",
    "    Print a judgement of each movie in a movie list. If the score is over 80,\n",
    "    print that it's a great movie; if the score is over 60, print that it's a\n",
    "    good movie; if the score is under 60 print that it's a bad movie.\n",
    "    \n",
    "    Parameters:\n",
    "    * movie_list: list, List of movie titles to print ratings for.\n",
    "    \"\"\"\n",
    "    for movie in movie_list:\n",
    "        this_movie_data = return_single_movie_object(movie)\n",
    "        this_movie_instance = Movie(this_movie_data)\n",
    "        movie_title = this_movie_instance.get_movie_title()\n",
    "        movie_rating = float(this_movie_instance.get_movie_rating()[:-1])\n",
    "        if movie_rating >= 80:\n",
    "            print(movie_title, 'is a great movie!')\n",
    "        elif movie_rating >= 60:\n",
    "            print(movie_title, 'is a good movie')\n",
    "        elif movie_rating < 60:\n",
    "            print(movie_title, 'is a bad movie')"
   ]
  },
  {
   "cell_type": "code",
   "execution_count": 13,
   "metadata": {},
   "outputs": [
    {
     "name": "stdout",
     "output_type": "stream",
     "text": [
      "Blade is a bad movie\n",
      "Spirited Away is a great movie!\n",
      "Back to the Future is a great movie!\n"
     ]
    }
   ],
   "source": [
    "default_movie_list = ['Blade', 'Spirited Away', 'Back to the Future']\n",
    "print_all_ratings(default_movie_list)"
   ]
  },
  {
   "cell_type": "markdown",
   "metadata": {},
   "source": [
    "## Part 4: Make new functions\n",
    "Create a function, `list_search_results()`, which searches the API using a query (this is the `s=` functionality of the OMDB API) and prints out the titles present in the search results"
   ]
  },
  {
   "cell_type": "code",
   "execution_count": 14,
   "metadata": {},
   "outputs": [],
   "source": [
    "def list_search_results(search_term):\n",
    "    \"\"\"\n",
    "    Search the OMDB API using the 's=' functionality and prints out \n",
    "    the titles present in the search results.\n",
    "    Parameters:\n",
    "    * s: str, search term.\n",
    "    \"\"\"\n",
    "    url = 'http://www.omdbapi.com/?&apikey='+get_api_key()+'&s='+search_term\n",
    "    result = requests.request('GET',url).json()\n",
    "    print(\"Your search term (\", search_term, \") is in the following movies:\", sep='')\n",
    "    for movie_object in result['Search']:\n",
    "        print(movie_object['Title'])"
   ]
  },
  {
   "cell_type": "code",
   "execution_count": 15,
   "metadata": {},
   "outputs": [
    {
     "name": "stdout",
     "output_type": "stream",
     "text": [
      "Your search term (Blade) is in the following movies:\n",
      "Blade Runner\n",
      "Blade Runner 2049\n",
      "Blade\n",
      "Blade II\n",
      "Blade: Trinity\n",
      "Sling Blade\n",
      "Dragon Blade\n",
      "Shinobi: Heart Under Blade\n",
      "Blade of the Immortal\n",
      "Blade Runner: Black Out 2022\n"
     ]
    }
   ],
   "source": [
    "list_search_results('Blade')"
   ]
  },
  {
   "cell_type": "markdown",
   "metadata": {},
   "source": [
    "## Part 5: Create your `main()` function!"
   ]
  },
  {
   "cell_type": "code",
   "execution_count": 16,
   "metadata": {},
   "outputs": [
    {
     "name": "stdout",
     "output_type": "stream",
     "text": [
      "Blade is a bad movie\n",
      "Spirited Away is a great movie!\n",
      "Back to the Future is a great movie!\n"
     ]
    }
   ],
   "source": [
    "# Make sure this will work before moving on!\n",
    "\n",
    "default_movie_list = ['Blade', 'Spirited Away', 'Back to the Future']\n",
    "print_all_ratings(default_movie_list)"
   ]
  },
  {
   "cell_type": "code",
   "execution_count": 17,
   "metadata": {},
   "outputs": [],
   "source": [
    "# Keep this function the same. It should work with all your other modified functions, if you created those properly.\n",
    "def print_single_movie_rating(movie_title):\n",
    "    \"\"\"\n",
    "    Print a movie rating for a given movie.\n",
    "    Parameters:\n",
    "    * movie_title: str, title of movie to get rating for.\n",
    "    \"\"\"\n",
    "    this_movie_data = return_single_movie_object(movie_title)\n",
    "    this_movie_instance = Movie(this_movie_data)\n",
    "    movie_title = this_movie_instance.get_movie_title()\n",
    "    movie_rating = this_movie_instance.get_movie_rating()\n",
    "    print(f\"The rating for {movie_title} is {movie_rating}.\")"
   ]
  },
  {
   "cell_type": "code",
   "execution_count": 18,
   "metadata": {},
   "outputs": [],
   "source": [
    "def main():\n",
    "    list_of_movies = ['Blade', 'Spirited Away', 'Back to the Future']\n",
    "    print_all_ratings(list_of_movies)\n",
    "    print_single_movie_rating('Spirited Away')"
   ]
  },
  {
   "cell_type": "code",
   "execution_count": 19,
   "metadata": {},
   "outputs": [
    {
     "name": "stdout",
     "output_type": "stream",
     "text": [
      "Blade is a bad movie\n",
      "Spirited Away is a great movie!\n",
      "Back to the Future is a great movie!\n",
      "The rating for Spirited Away is 97%.\n"
     ]
    }
   ],
   "source": [
    "if __name__ == '__main__':\n",
    "    main()"
   ]
  },
  {
   "cell_type": "code",
   "execution_count": 20,
   "metadata": {},
   "outputs": [],
   "source": [
    "def main():\n",
    "    \"\"\"\n",
    "    Run from here\n",
    "    \"\"\"\n",
    "    while True:\n",
    "        # TODO: Use \"input\" to create a prompt that will tell the user to select 1 to search for a movie, or 2 to find the rating of a specific movie, or 3 to quit\n",
    "        print('\\n')\n",
    "        print('(1) search for a movie')\n",
    "        print('(2) find the rating of a specific movie')\n",
    "        print('(3) quit')\n",
    "        choice = input(\"Choose an option: \")\n",
    "        choice = int(choice)\n",
    "\n",
    "        # TODO: Create an if-elif-else conditional:\n",
    "        \n",
    "        # If the user input a \"1\" above, prompt the user to input a movie title and run list_search_results on the input\n",
    "        if choice==1:\n",
    "            decision = input(\"What's the movie title?\")\n",
    "            print(list_search_results(decision))\n",
    "        # If the user input a \"2\" above, prompt the user to input a movie titla and run print_single_movie_rating\n",
    "        elif choice ==2:\n",
    "            decision = input(\"What's the movie title?\")\n",
    "            print_single_movie_rating(decision)\n",
    "        # If the user input a \"3\" above, break the while loop (the `break` keyword breaks all loops)\n",
    "        elif choice ==3:\n",
    "            break\n",
    "        # If the input is not a 1, 2, or 3, print out \"You must input a 1, 2, or 3\"\n",
    "        else:\n",
    "            print(\"You must input a 1, 2, or 3\")"
   ]
  },
  {
   "cell_type": "code",
   "execution_count": 21,
   "metadata": {},
   "outputs": [
    {
     "name": "stdout",
     "output_type": "stream",
     "text": [
      "\n",
      "\n",
      "(1) search for a movie\n",
      "(2) find the rating of a specific movie\n",
      "(3) quit\n",
      "Choose an option: 1\n",
      "What's the movie title?Blade\n",
      "Your search term (Blade) is in the following movies:\n",
      "Blade Runner\n",
      "Blade Runner 2049\n",
      "Blade\n",
      "Blade II\n",
      "Blade: Trinity\n",
      "Sling Blade\n",
      "Dragon Blade\n",
      "Shinobi: Heart Under Blade\n",
      "Blade of the Immortal\n",
      "Blade Runner: Black Out 2022\n",
      "None\n",
      "\n",
      "\n",
      "(1) search for a movie\n",
      "(2) find the rating of a specific movie\n",
      "(3) quit\n",
      "Choose an option: 2\n",
      "What's the movie title?Blade\n",
      "The rating for Blade is 53%.\n",
      "\n",
      "\n",
      "(1) search for a movie\n",
      "(2) find the rating of a specific movie\n",
      "(3) quit\n",
      "Choose an option: 4\n",
      "You must input a 1, 2, or 3\n",
      "\n",
      "\n",
      "(1) search for a movie\n",
      "(2) find the rating of a specific movie\n",
      "(3) quit\n",
      "Choose an option: 3\n"
     ]
    }
   ],
   "source": [
    "if __name__ == '__main__':\n",
    "    main()"
   ]
  }
 ],
 "metadata": {
  "kernelspec": {
   "display_name": "Python 3",
   "language": "python",
   "name": "python3"
  },
  "language_info": {
   "codemirror_mode": {
    "name": "ipython",
    "version": 3
   },
   "file_extension": ".py",
   "mimetype": "text/x-python",
   "name": "python",
   "nbconvert_exporter": "python",
   "pygments_lexer": "ipython3",
   "version": "3.6.3"
  }
 },
 "nbformat": 4,
 "nbformat_minor": 2
}
