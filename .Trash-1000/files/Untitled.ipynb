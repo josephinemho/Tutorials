{
 "cells": [
  {
   "cell_type": "code",
   "execution_count": 8,
   "metadata": {},
   "outputs": [],
   "source": [
    "from sklearn.model_selection import GridSearchCV, StratifiedShuffleSplit\n",
    "import numpy as np\n",
    "from sklearn.linear_model import LogisticRegression\n"
   ]
  },
  {
   "cell_type": "code",
   "execution_count": 5,
   "metadata": {},
   "outputs": [
    {
     "data": {
      "text/plain": [
       "array([  1.00000000e-03,   1.32571137e-03,   1.75751062e-03,\n",
       "         2.32995181e-03,   3.08884360e-03,   4.09491506e-03,\n",
       "         5.42867544e-03,   7.19685673e-03,   9.54095476e-03,\n",
       "         1.26485522e-02,   1.67683294e-02,   2.22299648e-02,\n",
       "         2.94705170e-02,   3.90693994e-02,   5.17947468e-02,\n",
       "         6.86648845e-02,   9.10298178e-02,   1.20679264e-01,\n",
       "         1.59985872e-01,   2.12095089e-01,   2.81176870e-01,\n",
       "         3.72759372e-01,   4.94171336e-01,   6.55128557e-01,\n",
       "         8.68511374e-01,   1.15139540e+00,   1.52641797e+00,\n",
       "         2.02358965e+00,   2.68269580e+00,   3.55648031e+00,\n",
       "         4.71486636e+00,   6.25055193e+00,   8.28642773e+00,\n",
       "         1.09854114e+01,   1.45634848e+01,   1.93069773e+01,\n",
       "         2.55954792e+01,   3.39322177e+01,   4.49843267e+01,\n",
       "         5.96362332e+01,   7.90604321e+01,   1.04811313e+02,\n",
       "         1.38949549e+02,   1.84206997e+02,   2.44205309e+02,\n",
       "         3.23745754e+02,   4.29193426e+02,   5.68986603e+02,\n",
       "         7.54312006e+02,   1.00000000e+03])"
      ]
     },
     "execution_count": 5,
     "metadata": {},
     "output_type": "execute_result"
    }
   ],
   "source": [
    "np.logspace(-3, 3)"
   ]
  },
  {
   "cell_type": "code",
   "execution_count": 7,
   "metadata": {},
   "outputs": [
    {
     "data": {
      "text/plain": [
       "array([  1.00000000e-03,   1.00000000e-01,   1.00000000e+01,\n",
       "         1.00000000e+03])"
      ]
     },
     "execution_count": 7,
     "metadata": {},
     "output_type": "execute_result"
    }
   ],
   "source": [
    "np.logspace(-3, 3,4)"
   ]
  },
  {
   "cell_type": "code",
   "execution_count": null,
   "metadata": {},
   "outputs": [],
   "source": [
    "\n",
    "GridSearchCV(cv=StratifiedShuffleSplit(n_splits=3))"
   ]
  },
  {
   "cell_type": "code",
   "execution_count": null,
   "metadata": {},
   "outputs": [],
   "source": [
    "LogisticRegression()"
   ]
  },
  {
   "cell_type": "code",
   "execution_count": null,
   "metadata": {},
   "outputs": [],
   "source": []
  }
 ],
 "metadata": {
  "kernelspec": {
   "display_name": "Python 3",
   "language": "python",
   "name": "python3"
  },
  "language_info": {
   "codemirror_mode": {
    "name": "ipython",
    "version": 3
   },
   "file_extension": ".py",
   "mimetype": "text/x-python",
   "name": "python",
   "nbconvert_exporter": "python",
   "pygments_lexer": "ipython3",
   "version": "3.6.3"
  }
 },
 "nbformat": 4,
 "nbformat_minor": 2
}
