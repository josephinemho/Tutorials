{
 "cells": [
  {
   "cell_type": "markdown",
   "metadata": {},
   "source": [
    "## Procedure\n",
    "\n",
    "1. Load and clean data\n",
    "2. Exploratory Data Analysis (EDA)\n",
    "3. Feature selection\n",
    "4. Modeling & evaluation"
   ]
  },
  {
   "cell_type": "markdown",
   "metadata": {},
   "source": [
    "### Load libraries"
   ]
  },
  {
   "cell_type": "code",
   "execution_count": 1,
   "metadata": {},
   "outputs": [],
   "source": [
    "import pandas as pd\n",
    "import numpy as np\n",
    "from scipy.stats import skew\n",
    "from datetime import datetime\n",
    "from sklearn.model_selection import train_test_split\n",
    "from imblearn.over_sampling import SMOTE\n",
    "\n",
    "from sklearn.decomposition import PCA\n",
    "from sklearn.pipeline import make_pipeline\n",
    "from sklearn.preprocessing import StandardScaler\n",
    "from sklearn.metrics import f1_score, confusion_matrix\n",
    "\n",
    "from sklearn.linear_model import LogisticRegression\n",
    "from sklearn.tree import DecisionTreeClassifier\n",
    "from sklearn.ensemble import RandomForestClassifier\n",
    "from sklearn.neighbors import KNeighborsClassifier\n",
    "from xgboost import XGBClassifier\n",
    "\n",
    "import matplotlib.pyplot as plt\n",
    "import seaborn as sns\n",
    "%matplotlib inline\n",
    "\n",
    "import warnings\n",
    "warnings.filterwarnings(\"ignore\", category=FutureWarning)\n",
    "from sklearn.exceptions import DataConversionWarning\n",
    "warnings.filterwarnings(\"ignore\", category=DataConversionWarning)"
   ]
  },
  {
   "cell_type": "markdown",
   "metadata": {},
   "source": [
    "### Define classes/functions"
   ]
  },
  {
   "cell_type": "code",
   "execution_count": 2,
   "metadata": {},
   "outputs": [],
   "source": [
    "class ETL:\n",
    "    \"\"\"\n",
    "    The ETL class contains methods for Extraction, Transformation, Loading. \n",
    "    \"\"\"\n",
    "    \n",
    "    def extract_data(path):\n",
    "        \"\"\"\n",
    "        Read CSV (comma-separated) file into DataFrame using the python engine parser.\n",
    "        \"\"\"\n",
    "        df = pd.read_csv(path, engine='python')\n",
    "        return df\n",
    "        \n",
    "    def general_checks(df):\n",
    "        \"\"\"\n",
    "        Perform general checks for nulls, datatypes and unique variables.\n",
    "        \"\"\"\n",
    "        for col in df:\n",
    "            if len(df[col].unique()) < 10:\n",
    "                print(col.ljust(15),str(df[col].dtype).ljust(10),str(df[col].isnull().sum()).ljust(5),data[col].unique())\n",
    "            else:\n",
    "                print(col.ljust(15),str(df[col].dtype).ljust(10),str(df[col].isnull().sum()).ljust(5),data[col].nunique())\n",
    "\n",
    "    def convert_and_extract_from_date(df, date_column):\n",
    "        \"\"\"\n",
    "        Convert date column from string to datetime format and extract 'dayofweek' field.\n",
    "        \"\"\"\n",
    "        df[date_column] = pd.to_datetime(df[date_column])\n",
    "        dayofweek_list = []\n",
    "        for i in df[date_column]:\n",
    "            dayofweek_list.append(datetime.weekday(i))\n",
    "        df['dayofweek'] = pd.Series(dayofweek_list)\n",
    "        print(\"Check date datatype: \", df[date_column].dtype)\n",
    "        print(\"Check dayofweek datatype: \", df['dayofweek'].dtype)\n",
    "    \n",
    "    def deskew_numeric_variables(num_df):\n",
    "        \"\"\"\n",
    "        Deskew numeric variables using log transform.\n",
    "        \"\"\"\n",
    "        logged_df = num_df.copy()\n",
    "        for col in logged_df.columns:\n",
    "            logged_df[col] = np.log(1+logged_df[col])\n",
    "        return logged_df\n",
    "    \n",
    "    def encode_categorical_variables(cat_df):\n",
    "        \"\"\"\n",
    "        One-hot encode categorical variables.\n",
    "        \"\"\"\n",
    "        cat_df = cat_df.astype('object')\n",
    "        print(\"original size: \", cat_df.shape)\n",
    "        encoded_cat_df = pd.get_dummies(cat_df)\n",
    "        print(\"new size: \", encoded_cat_df.shape)\n",
    "        return encoded_cat_df\n",
    "    \n",
    "    def merge_all_variables(num_df, cat_df, misc_df):\n",
    "        \"\"\"\n",
    "        Merge all variables back together after transformations\n",
    "        \"\"\"\n",
    "        print(\"numeric variables: \", num_df.shape)\n",
    "        print(\"cat_variables: \", cat_df.shape)\n",
    "        print(\"misc_variables: \", misc_df.shape)\n",
    "        transformed_df = pd.concat([num_df,cat_df, misc_df], axis=1)\n",
    "        transformed_df.rename(columns={0:'Sun', 1:'Mon', 2:'Tue', 3:'Wed', 4:'Thu', 5:'Fri', 6:'Sat'}, inplace=True)\n",
    "        return transformed_df\n",
    "    \n",
    "    def extract_features_and_target(df):\n",
    "        \"\"\"\n",
    "        Split data into features and target.\n",
    "        \"\"\"\n",
    "        features = df[df.columns[~df.columns.isin(['date','device','failure'])]]\n",
    "        target = df['failure']\n",
    "        return features, target\n",
    "    \n",
    "class EDA: \n",
    "    \n",
    "    def plot_distribution(num_df):\n",
    "        fig = plt.figure(figsize=(20,20))\n",
    "        for i, col in enumerate(num_df.columns):\n",
    "            fig.add_subplot(3,3,1+i)\n",
    "            sns.distplot(num_df[col], label=col)\n",
    "            plt.axvline(num_df[col].mean(), c='r', label = 'mean')\n",
    "            plt.axvline(num_df[col].median(), c='g', label = 'median')\n",
    "            plt.axvline(num_df[col].mode()[0], c='b', label = 'mode')\n",
    "            plt.legend()\n",
    "\n",
    "    def compare_skew(original_df, logged_df):\n",
    "        compare_df = pd.DataFrame(columns=['feature', 'original', 'logged'])\n",
    "        for col in original_df.columns:\n",
    "            compare_df = compare_df.append({'feature': col,\n",
    "                                            'original': skew(original_df[col]),\n",
    "                                            'logged': skew(logged_df[col])}, ignore_index=True)\n",
    "        return compare_df\n",
    "\n",
    "    def plot_boxplots(df):\n",
    "        fig = plt.figure(figsize=(20,20))\n",
    "        for i, col in enumerate(df.columns):\n",
    "            fig.add_subplot(6,2,1+i)\n",
    "            sns.set(style=\"whitegrid\")\n",
    "            ax = sns.boxplot(x=target, y=df[col])\n",
    "            \n",
    "    def plot_correltion_matrix(df):\n",
    "        corr = df.corr()\n",
    "        f, ax = plt.subplots(figsize=(20, 9))\n",
    "        sns.heatmap(corr, vmax=.3, linewidths=.5, cbar_kws={\"shrink\": .5}, ax=ax, annot=True)\n",
    "   \n",
    "    def plot_pca(features, target):\n",
    "        scaler = StandardScaler()\n",
    "        scaled_features = scaler.fit_transform(features)\n",
    "        pca = PCA()\n",
    "        features_pca = pca.fit_transform(scaled_features)\n",
    "        plt.style.use('ggplot')\n",
    "        plt.scatter(features_pca[:,0], features_pca[:,1], c=target, alpha=.5)\n",
    "        plt.colorbar()\n",
    "        print(\"# of components needed to account for 90% variance: \", np.where(np.cumsum(pca.explained_variance_ratio_) > .9)[0][0])\n",
    "        return pca\n",
    "        \n",
    "class Modeling:\n",
    "    \n",
    "    def evaluate_model(model, X_test, y_test):\n",
    "        prediction = model.predict(X_test)\n",
    "        print('Accuracy: ', model.score(X_test, y_test))\n",
    "        print('F1: ', f1_score(y_test, prediction))\n",
    "        return pd.DataFrame(confusion_matrix(y_test, prediction))"
   ]
  },
  {
   "cell_type": "markdown",
   "metadata": {},
   "source": [
    "# 1. Load and clean data"
   ]
  },
  {
   "cell_type": "code",
   "execution_count": 3,
   "metadata": {},
   "outputs": [
    {
     "data": {
      "text/html": [
       "<div>\n",
       "<table border=\"1\" class=\"dataframe\">\n",
       "  <thead>\n",
       "    <tr style=\"text-align: right;\">\n",
       "      <th></th>\n",
       "      <th>date</th>\n",
       "      <th>device</th>\n",
       "      <th>failure</th>\n",
       "      <th>attribute1</th>\n",
       "      <th>attribute2</th>\n",
       "      <th>attribute3</th>\n",
       "      <th>attribute4</th>\n",
       "      <th>attribute5</th>\n",
       "      <th>attribute6</th>\n",
       "      <th>attribute7</th>\n",
       "      <th>attribute8</th>\n",
       "      <th>attribute9</th>\n",
       "    </tr>\n",
       "  </thead>\n",
       "  <tbody>\n",
       "    <tr>\n",
       "      <th>0</th>\n",
       "      <td>2015-01-01</td>\n",
       "      <td>S1F01085</td>\n",
       "      <td>0</td>\n",
       "      <td>215630672</td>\n",
       "      <td>56</td>\n",
       "      <td>0</td>\n",
       "      <td>52</td>\n",
       "      <td>6</td>\n",
       "      <td>407438</td>\n",
       "      <td>0</td>\n",
       "      <td>0</td>\n",
       "      <td>7</td>\n",
       "    </tr>\n",
       "    <tr>\n",
       "      <th>1</th>\n",
       "      <td>2015-01-01</td>\n",
       "      <td>S1F0166B</td>\n",
       "      <td>0</td>\n",
       "      <td>61370680</td>\n",
       "      <td>0</td>\n",
       "      <td>3</td>\n",
       "      <td>0</td>\n",
       "      <td>6</td>\n",
       "      <td>403174</td>\n",
       "      <td>0</td>\n",
       "      <td>0</td>\n",
       "      <td>0</td>\n",
       "    </tr>\n",
       "  </tbody>\n",
       "</table>\n",
       "</div>"
      ],
      "text/plain": [
       "         date    device  failure  attribute1  attribute2  attribute3  \\\n",
       "0  2015-01-01  S1F01085        0   215630672          56           0   \n",
       "1  2015-01-01  S1F0166B        0    61370680           0           3   \n",
       "\n",
       "   attribute4  attribute5  attribute6  attribute7  attribute8  attribute9  \n",
       "0          52           6      407438           0           0           7  \n",
       "1           0           6      403174           0           0           0  "
      ]
     },
     "execution_count": 3,
     "metadata": {},
     "output_type": "execute_result"
    }
   ],
   "source": [
    "data = ETL.extract_data('../work/data/device_failure.csv')\n",
    "data.head(2)"
   ]
  },
  {
   "cell_type": "markdown",
   "metadata": {},
   "source": [
    "### Convert and extract from `['date']` column"
   ]
  },
  {
   "cell_type": "code",
   "execution_count": 4,
   "metadata": {},
   "outputs": [
    {
     "name": "stdout",
     "output_type": "stream",
     "text": [
      "Check date datatype:  datetime64[ns]\n",
      "Check dayofweek datatype:  int64\n"
     ]
    }
   ],
   "source": [
    "# I had previously explored the data and saw that there's only data for \n",
    "# November 2015, so we only need to extract dayofweek\n",
    "\n",
    "ETL.convert_and_extract_from_date(data, 'date')"
   ]
  },
  {
   "cell_type": "markdown",
   "metadata": {},
   "source": [
    "## Transformations\n",
    "Transform numeric and categorical variables so that it feeds in nicely in a way that models can understand. \n",
    "\n",
    "**\"Garbage in, garbage out\"**\n",
    "\n",
    "Building models on top of raw data wouldn't get us the desired results or performance, as algorithms are not intelligent enough (yet) to automaticaly extract meaningful features from raw data."
   ]
  },
  {
   "cell_type": "code",
   "execution_count": 5,
   "metadata": {},
   "outputs": [],
   "source": [
    "# Split numeric & categorical data (create \"misc\" list just to keep track)\n",
    "\n",
    "cat_list = ['dayofweek']\n",
    "num_list = ['attribute1', 'attribute2', 'attribute3', 'attribute4', 'attribute5', 'attribute6', 'attribute7', 'attribute8', 'attribute9']\n",
    "misc_list = ['failure']"
   ]
  },
  {
   "cell_type": "markdown",
   "metadata": {},
   "source": [
    "### Deskew right-skewed numeric variables only\n",
    "Use log transform on highly skewed features. Identify which features to apply log transform to by comparing the before and after. Ignore features that are normally distributed or skewed to the left.\n",
    "\n",
    "* skewness = 0 : normally distributed\n",
    "* skewness > 0 : right skewed\n",
    "* skewness < 0 : left skewed"
   ]
  },
  {
   "cell_type": "code",
   "execution_count": 6,
   "metadata": {},
   "outputs": [],
   "source": [
    "numeric_data = data[num_list]"
   ]
  },
  {
   "cell_type": "code",
   "execution_count": 7,
   "metadata": {
    "scrolled": true
   },
   "outputs": [
    {
     "data": {
      "text/html": [
       "<div>\n",
       "<table border=\"1\" class=\"dataframe\">\n",
       "  <thead>\n",
       "    <tr style=\"text-align: right;\">\n",
       "      <th></th>\n",
       "      <th>attribute1</th>\n",
       "      <th>attribute2</th>\n",
       "      <th>attribute3</th>\n",
       "      <th>attribute4</th>\n",
       "      <th>attribute5</th>\n",
       "      <th>attribute6</th>\n",
       "      <th>attribute7</th>\n",
       "      <th>attribute8</th>\n",
       "      <th>attribute9</th>\n",
       "    </tr>\n",
       "  </thead>\n",
       "  <tbody>\n",
       "    <tr>\n",
       "      <th>0</th>\n",
       "      <td>19.189078</td>\n",
       "      <td>4.043051</td>\n",
       "      <td>0.000000</td>\n",
       "      <td>3.970292</td>\n",
       "      <td>1.94591</td>\n",
       "      <td>12.917647</td>\n",
       "      <td>0.0</td>\n",
       "      <td>0.0</td>\n",
       "      <td>2.079442</td>\n",
       "    </tr>\n",
       "    <tr>\n",
       "      <th>1</th>\n",
       "      <td>17.932443</td>\n",
       "      <td>0.000000</td>\n",
       "      <td>1.386294</td>\n",
       "      <td>0.000000</td>\n",
       "      <td>1.94591</td>\n",
       "      <td>12.907126</td>\n",
       "      <td>0.0</td>\n",
       "      <td>0.0</td>\n",
       "      <td>0.000000</td>\n",
       "    </tr>\n",
       "  </tbody>\n",
       "</table>\n",
       "</div>"
      ],
      "text/plain": [
       "   attribute1  attribute2  attribute3  attribute4  attribute5  attribute6  \\\n",
       "0   19.189078    4.043051    0.000000    3.970292     1.94591   12.917647   \n",
       "1   17.932443    0.000000    1.386294    0.000000     1.94591   12.907126   \n",
       "\n",
       "   attribute7  attribute8  attribute9  \n",
       "0         0.0         0.0    2.079442  \n",
       "1         0.0         0.0    0.000000  "
      ]
     },
     "execution_count": 7,
     "metadata": {},
     "output_type": "execute_result"
    }
   ],
   "source": [
    "logged_numeric_data = ETL.deskew_numeric_variables(numeric_data)\n",
    "logged_numeric_data.head(2)"
   ]
  },
  {
   "cell_type": "code",
   "execution_count": 8,
   "metadata": {},
   "outputs": [
    {
     "data": {
      "text/html": [
       "<div>\n",
       "<table border=\"1\" class=\"dataframe\">\n",
       "  <thead>\n",
       "    <tr style=\"text-align: right;\">\n",
       "      <th></th>\n",
       "      <th>attribute1</th>\n",
       "      <th>attribute6</th>\n",
       "      <th>attribute2</th>\n",
       "      <th>attribute3</th>\n",
       "      <th>attribute4</th>\n",
       "      <th>attribute5</th>\n",
       "      <th>attribute7</th>\n",
       "      <th>attribute8</th>\n",
       "      <th>attribute9</th>\n",
       "    </tr>\n",
       "  </thead>\n",
       "  <tbody>\n",
       "    <tr>\n",
       "      <th>0</th>\n",
       "      <td>215630672</td>\n",
       "      <td>407438</td>\n",
       "      <td>4.043051</td>\n",
       "      <td>0.000000</td>\n",
       "      <td>3.970292</td>\n",
       "      <td>1.94591</td>\n",
       "      <td>0.0</td>\n",
       "      <td>0.0</td>\n",
       "      <td>2.079442</td>\n",
       "    </tr>\n",
       "    <tr>\n",
       "      <th>1</th>\n",
       "      <td>61370680</td>\n",
       "      <td>403174</td>\n",
       "      <td>0.000000</td>\n",
       "      <td>1.386294</td>\n",
       "      <td>0.000000</td>\n",
       "      <td>1.94591</td>\n",
       "      <td>0.0</td>\n",
       "      <td>0.0</td>\n",
       "      <td>0.000000</td>\n",
       "    </tr>\n",
       "  </tbody>\n",
       "</table>\n",
       "</div>"
      ],
      "text/plain": [
       "   attribute1  attribute6  attribute2  attribute3  attribute4  attribute5  \\\n",
       "0   215630672      407438    4.043051    0.000000    3.970292     1.94591   \n",
       "1    61370680      403174    0.000000    1.386294    0.000000     1.94591   \n",
       "\n",
       "   attribute7  attribute8  attribute9  \n",
       "0         0.0         0.0    2.079442  \n",
       "1         0.0         0.0    0.000000  "
      ]
     },
     "execution_count": 8,
     "metadata": {},
     "output_type": "execute_result"
    }
   ],
   "source": [
    "# Pick and choose (exclude left-skewed)\n",
    "\n",
    "numeric_data = pd.concat([numeric_data[['attribute1','attribute6']],logged_numeric_data[['attribute2','attribute3','attribute4','attribute5','attribute7','attribute8','attribute9']]], axis=1)\n",
    "numeric_data.head(2)"
   ]
  },
  {
   "cell_type": "markdown",
   "metadata": {},
   "source": [
    "### Encode categorical variables\n",
    "Then merge transformed numeric and categorical features together."
   ]
  },
  {
   "cell_type": "code",
   "execution_count": 9,
   "metadata": {
    "scrolled": true
   },
   "outputs": [
    {
     "name": "stdout",
     "output_type": "stream",
     "text": [
      "original size:  (124494, 1)\n",
      "new size:  (124494, 7)\n"
     ]
    }
   ],
   "source": [
    "categorical_data = ETL.encode_categorical_variables(data[cat_list])"
   ]
  },
  {
   "cell_type": "code",
   "execution_count": 10,
   "metadata": {},
   "outputs": [
    {
     "name": "stdout",
     "output_type": "stream",
     "text": [
      "numeric variables:  (124494, 9)\n",
      "cat_variables:  (124494, 7)\n",
      "misc_variables:  (124494, 1)\n"
     ]
    },
    {
     "data": {
      "text/html": [
       "<div>\n",
       "<table border=\"1\" class=\"dataframe\">\n",
       "  <thead>\n",
       "    <tr style=\"text-align: right;\">\n",
       "      <th></th>\n",
       "      <th>attribute1</th>\n",
       "      <th>attribute6</th>\n",
       "      <th>attribute2</th>\n",
       "      <th>attribute3</th>\n",
       "      <th>attribute4</th>\n",
       "      <th>attribute5</th>\n",
       "      <th>attribute7</th>\n",
       "      <th>attribute8</th>\n",
       "      <th>attribute9</th>\n",
       "      <th>dayofweek_0</th>\n",
       "      <th>dayofweek_1</th>\n",
       "      <th>dayofweek_2</th>\n",
       "      <th>dayofweek_3</th>\n",
       "      <th>dayofweek_4</th>\n",
       "      <th>dayofweek_5</th>\n",
       "      <th>dayofweek_6</th>\n",
       "      <th>failure</th>\n",
       "    </tr>\n",
       "  </thead>\n",
       "  <tbody>\n",
       "    <tr>\n",
       "      <th>0</th>\n",
       "      <td>215630672</td>\n",
       "      <td>407438</td>\n",
       "      <td>4.043051</td>\n",
       "      <td>0.000000</td>\n",
       "      <td>3.970292</td>\n",
       "      <td>1.94591</td>\n",
       "      <td>0.0</td>\n",
       "      <td>0.0</td>\n",
       "      <td>2.079442</td>\n",
       "      <td>0</td>\n",
       "      <td>0</td>\n",
       "      <td>0</td>\n",
       "      <td>1</td>\n",
       "      <td>0</td>\n",
       "      <td>0</td>\n",
       "      <td>0</td>\n",
       "      <td>0</td>\n",
       "    </tr>\n",
       "    <tr>\n",
       "      <th>1</th>\n",
       "      <td>61370680</td>\n",
       "      <td>403174</td>\n",
       "      <td>0.000000</td>\n",
       "      <td>1.386294</td>\n",
       "      <td>0.000000</td>\n",
       "      <td>1.94591</td>\n",
       "      <td>0.0</td>\n",
       "      <td>0.0</td>\n",
       "      <td>0.000000</td>\n",
       "      <td>0</td>\n",
       "      <td>0</td>\n",
       "      <td>0</td>\n",
       "      <td>1</td>\n",
       "      <td>0</td>\n",
       "      <td>0</td>\n",
       "      <td>0</td>\n",
       "      <td>0</td>\n",
       "    </tr>\n",
       "  </tbody>\n",
       "</table>\n",
       "</div>"
      ],
      "text/plain": [
       "   attribute1  attribute6  attribute2  attribute3  attribute4  attribute5  \\\n",
       "0   215630672      407438    4.043051    0.000000    3.970292     1.94591   \n",
       "1    61370680      403174    0.000000    1.386294    0.000000     1.94591   \n",
       "\n",
       "   attribute7  attribute8  attribute9  dayofweek_0  dayofweek_1  dayofweek_2  \\\n",
       "0         0.0         0.0    2.079442            0            0            0   \n",
       "1         0.0         0.0    0.000000            0            0            0   \n",
       "\n",
       "   dayofweek_3  dayofweek_4  dayofweek_5  dayofweek_6  failure  \n",
       "0            1            0            0            0        0  \n",
       "1            1            0            0            0        0  "
      ]
     },
     "execution_count": 10,
     "metadata": {},
     "output_type": "execute_result"
    }
   ],
   "source": [
    "transformed_data = ETL.merge_all_variables(numeric_data, categorical_data, data[misc_list])\n",
    "transformed_data.head(2)"
   ]
  },
  {
   "cell_type": "markdown",
   "metadata": {},
   "source": [
    "# 2. Exploratory Data Analysis (EDA)"
   ]
  },
  {
   "cell_type": "code",
   "execution_count": 11,
   "metadata": {},
   "outputs": [],
   "source": [
    "features, target = ETL.extract_features_and_target(transformed_data)"
   ]
  },
  {
   "cell_type": "markdown",
   "metadata": {},
   "source": [
    "# 3. Feature Selection"
   ]
  },
  {
   "cell_type": "markdown",
   "metadata": {},
   "source": [
    "### Use Select K Best to find important features"
   ]
  },
  {
   "cell_type": "code",
   "execution_count": 31,
   "metadata": {},
   "outputs": [],
   "source": [
    "from sklearn.feature_selection import SelectKBest"
   ]
  },
  {
   "cell_type": "markdown",
   "metadata": {},
   "source": [
    "### Principal Component Analysis (PCA)\n",
    "Use the first two principal components to visualize the data."
   ]
  },
  {
   "cell_type": "code",
   "execution_count": null,
   "metadata": {},
   "outputs": [],
   "source": [
    "EDA.plot_pca(features, target)"
   ]
  },
  {
   "cell_type": "code",
   "execution_count": 29,
   "metadata": {
    "scrolled": true
   },
   "outputs": [
    {
     "name": "stdout",
     "output_type": "stream",
     "text": [
      "# of components needed to account for 90% variance:  11\n"
     ]
    },
    {
     "data": {
      "text/plain": [
       "PCA(copy=True, iterated_power='auto', n_components=None, random_state=None,\n",
       "  svd_solver='auto', tol=0.0, whiten=False)"
      ]
     },
     "execution_count": 29,
     "metadata": {},
     "output_type": "execute_result"
    },
    {
     "data": {
      "image/png": "[encoded data removed]",
      "text/plain": [
       "<matplotlib.figure.Figure at 0x7ff09f71bd68>"
      ]
     },
     "metadata": {},
     "output_type": "display_data"
    }
   ],
   "source": [
    "EDA.plot_pca(features, target)"
   ]
  },
  {
   "cell_type": "code",
   "execution_count": 30,
   "metadata": {},
   "outputs": [
    {
     "name": "stdout",
     "output_type": "stream",
     "text": [
      "# of components needed to account for 90% variance:  10\n"
     ]
    },
    {
     "data": {
      "text/plain": [
       "PCA(copy=True, iterated_power='auto', n_components=None, random_state=None,\n",
       "  svd_solver='auto', tol=0.0, whiten=False)"
      ]
     },
     "execution_count": 30,
     "metadata": {},
     "output_type": "execute_result"
    },
    {
     "data": {
      "image/png": "[encoded data removed]",
      "text/plain": [
       "<matplotlib.figure.Figure at 0x7ff09fea3c50>"
      ]
     },
     "metadata": {},
     "output_type": "display_data"
    }
   ],
   "source": [
    "EDA.plot_pca(selected_features, target)"
   ]
  },
  {
   "cell_type": "markdown",
   "metadata": {},
   "source": [
    "# 5. Modeling & evaluation"
   ]
  },
  {
   "cell_type": "markdown",
   "metadata": {},
   "source": [
    "### Generate training and test data"
   ]
  },
  {
   "cell_type": "code",
   "execution_count": 31,
   "metadata": {},
   "outputs": [],
   "source": [
    "X_train, X_test, y_train, y_test = X_train, X_test, y_train, y_test = train_test_split(features, target, test_size=.3, random_state=33)"
   ]
  },
  {
   "cell_type": "code",
   "execution_count": 32,
   "metadata": {},
   "outputs": [
    {
     "data": {
      "text/plain": [
       "0    124388\n",
       "1       106\n",
       "Name: failure, dtype: int64"
      ]
     },
     "execution_count": 32,
     "metadata": {},
     "output_type": "execute_result"
    }
   ],
   "source": [
    "# Check if we're dealing with imbalanced classes\n",
    "\n",
    "target.value_counts()"
   ]
  },
  {
   "cell_type": "code",
   "execution_count": 33,
   "metadata": {
    "scrolled": true
   },
   "outputs": [
    {
     "data": {
      "text/plain": [
       "0.9991485533439363"
      ]
     },
     "execution_count": 33,
     "metadata": {},
     "output_type": "execute_result"
    }
   ],
   "source": [
    "1-(106/(124388+106))"
   ]
  },
  {
   "cell_type": "markdown",
   "metadata": {},
   "source": [
    "Our classes are super imbalanced. So even if our model predicts there are no alerts 100% of the time, we'd get a 99% accurary score. That's not effective. We must deal with imbalanced classes before modeling."
   ]
  },
  {
   "cell_type": "markdown",
   "metadata": {},
   "source": [
    "### Handle imbalanced classes\n",
    "SMOTE synthesizes new minority classes by ignoring majority class examples, then for every minority instance it chooses its k-nearest-neighbors and if, for example, you want 300% replication, then 3 neighbors are chosen and it creates new instances halfway between the first instance and its neighbors."
   ]
  },
  {
   "cell_type": "code",
   "execution_count": 34,
   "metadata": {},
   "outputs": [],
   "source": [
    "sm = SMOTE(random_state=88, ratio = 1.0)\n",
    "X_train_resampled, y_train_resampled = sm.fit_sample(X_train, y_train)"
   ]
  },
  {
   "cell_type": "code",
   "execution_count": 35,
   "metadata": {
    "scrolled": true
   },
   "outputs": [
    {
     "name": "stdout",
     "output_type": "stream",
     "text": [
      "(87145, 16)\n",
      "(174140, 16)\n"
     ]
    }
   ],
   "source": [
    "# Our data doubled in size\n",
    "\n",
    "print(X_train.shape)\n",
    "print(X_train_resampled.shape)"
   ]
  },
  {
   "cell_type": "code",
   "execution_count": 36,
   "metadata": {},
   "outputs": [
    {
     "data": {
      "text/plain": [
       "1    87070\n",
       "0    87070\n",
       "dtype: int64"
      ]
     },
     "execution_count": 36,
     "metadata": {},
     "output_type": "execute_result"
    }
   ],
   "source": [
    "# Check classes are balanced\n",
    "\n",
    "pd.Series(y_train_resampled).value_counts()"
   ]
  },
  {
   "cell_type": "markdown",
   "metadata": {},
   "source": [
    "## Logistic Regression\n",
    "Draws a line (hyperplane) between different classes of points. The further a point is from the boundary line, the more its score (estimate) increases (nearing 0 or 1). Do a simple Logistic Regression on scaled and non-scaled data just to see which performs better."
   ]
  },
  {
   "cell_type": "code",
   "execution_count": 37,
   "metadata": {},
   "outputs": [
    {
     "name": "stdout",
     "output_type": "stream",
     "text": [
      "\n",
      "\n",
      "Accuracy:  0.999116442207\n",
      "F1:  0.0571428571429\n"
     ]
    },
    {
     "data": {
      "text/html": [
       "<div>\n",
       "<table border=\"1\" class=\"dataframe\">\n",
       "  <thead>\n",
       "    <tr style=\"text-align: right;\">\n",
       "      <th></th>\n",
       "      <th>0</th>\n",
       "      <th>1</th>\n",
       "    </tr>\n",
       "  </thead>\n",
       "  <tbody>\n",
       "    <tr>\n",
       "      <th>0</th>\n",
       "      <td>37315</td>\n",
       "      <td>3</td>\n",
       "    </tr>\n",
       "    <tr>\n",
       "      <th>1</th>\n",
       "      <td>30</td>\n",
       "      <td>1</td>\n",
       "    </tr>\n",
       "  </tbody>\n",
       "</table>\n",
       "</div>"
      ],
      "text/plain": [
       "       0  1\n",
       "0  37315  3\n",
       "1     30  1"
      ]
     },
     "execution_count": 37,
     "metadata": {},
     "output_type": "execute_result"
    }
   ],
   "source": [
    "lg1 = make_pipeline(StandardScaler(),\n",
    "                    PCA(),\n",
    "                    LogisticRegression())\n",
    "lg1.fit(X_train, y_train)\n",
    "print(\"\\n\")\n",
    "Modeling.evaluate_model(lg1, X_test, y_test)"
   ]
  },
  {
   "cell_type": "code",
   "execution_count": 38,
   "metadata": {},
   "outputs": [
    {
     "name": "stdout",
     "output_type": "stream",
     "text": [
      "\n",
      "\n",
      "Accuracy:  0.921416905406\n",
      "F1:  0.0154310634015\n"
     ]
    },
    {
     "data": {
      "text/html": [
       "<div>\n",
       "<table border=\"1\" class=\"dataframe\">\n",
       "  <thead>\n",
       "    <tr style=\"text-align: right;\">\n",
       "      <th></th>\n",
       "      <th>0</th>\n",
       "      <th>1</th>\n",
       "    </tr>\n",
       "  </thead>\n",
       "  <tbody>\n",
       "    <tr>\n",
       "      <th>0</th>\n",
       "      <td>34391</td>\n",
       "      <td>2927</td>\n",
       "    </tr>\n",
       "    <tr>\n",
       "      <th>1</th>\n",
       "      <td>8</td>\n",
       "      <td>23</td>\n",
       "    </tr>\n",
       "  </tbody>\n",
       "</table>\n",
       "</div>"
      ],
      "text/plain": [
       "       0     1\n",
       "0  34391  2927\n",
       "1      8    23"
      ]
     },
     "execution_count": 38,
     "metadata": {},
     "output_type": "execute_result"
    }
   ],
   "source": [
    "# Did worse on resampled data\n",
    "\n",
    "lg2 = make_pipeline(StandardScaler(),\n",
    "                    PCA(),\n",
    "                    LogisticRegression())\n",
    "lg2.fit(X_train_resampled, y_train_resampled)\n",
    "print(\"\\n\")\n",
    "Modeling.evaluate_model(lg2, X_test, y_test)"
   ]
  },
  {
   "cell_type": "markdown",
   "metadata": {},
   "source": [
    "## Decision Tree\n",
    "Recursively subdivides the instance space into finer and finer subregions until it is all one class (or good enough). New instances start at the root node and takes the appropriate path until it reaches a lead node, which determines the classification by checking the classes of the training instances that reached that leaf, and the majority determines the class. For that leaf, the score is calculated by:\n",
    "\n",
    "<a href=\"https://www.codecogs.com/eqnedit.php?latex=\\frac{majority&space;instances}{(majority&space;instances&space;&plus;&space;minority&space;instances)&space;}\" target=\"_blank\"><img src=\"https://latex.codecogs.com/gif.latex?\\frac{majority&space;instances}{(majority&space;instances&space;&plus;&space;minority&space;instances)&space;}\" title=\"\\frac{majority instances}{(majority instances + minority instances) }\" /></a>\n",
    "\n",
    "When using scikit-learn's DecisionTreeClassifier, always set min_samples_leaf to something like 5 or 10. Its default value of 1 is useless and is guaranteed to overfit. "
   ]
  },
  {
   "cell_type": "code",
   "execution_count": 39,
   "metadata": {},
   "outputs": [
    {
     "name": "stdout",
     "output_type": "stream",
     "text": [
      "\n",
      "\n",
      "Accuracy:  0.999169991164\n",
      "F1:  0.0\n"
     ]
    },
    {
     "name": "stderr",
     "output_type": "stream",
     "text": [
      "/opt/conda/lib/python3.6/site-packages/sklearn/metrics/classification.py:1143: UndefinedMetricWarning: F-score is ill-defined and being set to 0.0 due to no predicted samples.\n",
      "  'precision', 'predicted', average, warn_for)\n"
     ]
    },
    {
     "data": {
      "text/html": [
       "<div>\n",
       "<table border=\"1\" class=\"dataframe\">\n",
       "  <thead>\n",
       "    <tr style=\"text-align: right;\">\n",
       "      <th></th>\n",
       "      <th>0</th>\n",
       "      <th>1</th>\n",
       "    </tr>\n",
       "  </thead>\n",
       "  <tbody>\n",
       "    <tr>\n",
       "      <th>0</th>\n",
       "      <td>37318</td>\n",
       "      <td>0</td>\n",
       "    </tr>\n",
       "    <tr>\n",
       "      <th>1</th>\n",
       "      <td>31</td>\n",
       "      <td>0</td>\n",
       "    </tr>\n",
       "  </tbody>\n",
       "</table>\n",
       "</div>"
      ],
      "text/plain": [
       "       0  1\n",
       "0  37318  0\n",
       "1     31  0"
      ]
     },
     "execution_count": 39,
     "metadata": {},
     "output_type": "execute_result"
    }
   ],
   "source": [
    "dt1 = make_pipeline(StandardScaler(),\n",
    "                    PCA(),\n",
    "                    DecisionTreeClassifier(min_samples_leaf=10))\n",
    "dt1.fit(X_train, y_train)\n",
    "print(\"\\n\")\n",
    "Modeling.evaluate_model(dt1, X_test, y_test)"
   ]
  },
  {
   "cell_type": "code",
   "execution_count": 40,
   "metadata": {},
   "outputs": [
    {
     "name": "stdout",
     "output_type": "stream",
     "text": [
      "\n",
      "\n",
      "Accuracy:  0.991833784037\n",
      "F1:  0.031746031746\n"
     ]
    },
    {
     "data": {
      "text/html": [
       "<div>\n",
       "<table border=\"1\" class=\"dataframe\">\n",
       "  <thead>\n",
       "    <tr style=\"text-align: right;\">\n",
       "      <th></th>\n",
       "      <th>0</th>\n",
       "      <th>1</th>\n",
       "    </tr>\n",
       "  </thead>\n",
       "  <tbody>\n",
       "    <tr>\n",
       "      <th>0</th>\n",
       "      <td>37039</td>\n",
       "      <td>279</td>\n",
       "    </tr>\n",
       "    <tr>\n",
       "      <th>1</th>\n",
       "      <td>26</td>\n",
       "      <td>5</td>\n",
       "    </tr>\n",
       "  </tbody>\n",
       "</table>\n",
       "</div>"
      ],
      "text/plain": [
       "       0    1\n",
       "0  37039  279\n",
       "1     26    5"
      ]
     },
     "execution_count": 40,
     "metadata": {},
     "output_type": "execute_result"
    }
   ],
   "source": [
    "dt2 = make_pipeline(StandardScaler(),\n",
    "                    PCA(),\n",
    "                    DecisionTreeClassifier(min_samples_leaf=10))\n",
    "dt2.fit(X_train_resampled, y_train_resampled)\n",
    "print(\"\\n\")\n",
    "Modeling.evaluate_model(dt2, X_test, y_test)"
   ]
  },
  {
   "cell_type": "markdown",
   "metadata": {},
   "source": [
    "## Random Forest"
   ]
  },
  {
   "cell_type": "code",
   "execution_count": 41,
   "metadata": {},
   "outputs": [
    {
     "name": "stdout",
     "output_type": "stream",
     "text": [
      "\n",
      "\n",
      "Accuracy:  0.999116442207\n",
      "F1:  0.0\n"
     ]
    },
    {
     "data": {
      "text/html": [
       "<div>\n",
       "<table border=\"1\" class=\"dataframe\">\n",
       "  <thead>\n",
       "    <tr style=\"text-align: right;\">\n",
       "      <th></th>\n",
       "      <th>0</th>\n",
       "      <th>1</th>\n",
       "    </tr>\n",
       "  </thead>\n",
       "  <tbody>\n",
       "    <tr>\n",
       "      <th>0</th>\n",
       "      <td>37316</td>\n",
       "      <td>2</td>\n",
       "    </tr>\n",
       "    <tr>\n",
       "      <th>1</th>\n",
       "      <td>31</td>\n",
       "      <td>0</td>\n",
       "    </tr>\n",
       "  </tbody>\n",
       "</table>\n",
       "</div>"
      ],
      "text/plain": [
       "       0  1\n",
       "0  37316  2\n",
       "1     31  0"
      ]
     },
     "execution_count": 41,
     "metadata": {},
     "output_type": "execute_result"
    }
   ],
   "source": [
    "rf1 = make_pipeline(StandardScaler(),\n",
    "                    PCA(),\n",
    "                    RandomForestClassifier())\n",
    "rf1.fit(X_train, y_train)\n",
    "print(\"\\n\")\n",
    "Modeling.evaluate_model(rf1, X_test, y_test)"
   ]
  },
  {
   "cell_type": "markdown",
   "metadata": {},
   "source": [
    "Warning explanation: when the model doesn't predict positive class at all, precision and recall are 0. That means you are dividing 0/0."
   ]
  },
  {
   "cell_type": "code",
   "execution_count": 42,
   "metadata": {},
   "outputs": [
    {
     "name": "stdout",
     "output_type": "stream",
     "text": [
      "\n",
      "\n",
      "Accuracy:  0.998527403679\n",
      "F1:  0.0\n"
     ]
    },
    {
     "data": {
      "text/html": [
       "<div>\n",
       "<table border=\"1\" class=\"dataframe\">\n",
       "  <thead>\n",
       "    <tr style=\"text-align: right;\">\n",
       "      <th></th>\n",
       "      <th>0</th>\n",
       "      <th>1</th>\n",
       "    </tr>\n",
       "  </thead>\n",
       "  <tbody>\n",
       "    <tr>\n",
       "      <th>0</th>\n",
       "      <td>37294</td>\n",
       "      <td>24</td>\n",
       "    </tr>\n",
       "    <tr>\n",
       "      <th>1</th>\n",
       "      <td>31</td>\n",
       "      <td>0</td>\n",
       "    </tr>\n",
       "  </tbody>\n",
       "</table>\n",
       "</div>"
      ],
      "text/plain": [
       "       0   1\n",
       "0  37294  24\n",
       "1     31   0"
      ]
     },
     "execution_count": 42,
     "metadata": {},
     "output_type": "execute_result"
    }
   ],
   "source": [
    "rf2 = make_pipeline(StandardScaler(),\n",
    "                    PCA(),\n",
    "                    RandomForestClassifier())\n",
    "rf2.fit(X_train_resampled, y_train_resampled)\n",
    "print(\"\\n\")\n",
    "Modeling.evaluate_model(rf2, X_test, y_test)"
   ]
  },
  {
   "cell_type": "markdown",
   "metadata": {},
   "source": [
    "### K-Nearest Neighbor\n",
    "If for example, `k=5`, for every new instance, 5 of its nearest neighbors are randomly selected and some function like majority is applied to the five neighbors. To assign a score, divide the number of positive instances by the total and return the fraction. "
   ]
  },
  {
   "cell_type": "code",
   "execution_count": 43,
   "metadata": {},
   "outputs": [
    {
     "name": "stdout",
     "output_type": "stream",
     "text": [
      "\n",
      "\n",
      "Accuracy:  0.999089667729\n",
      "F1:  0.0\n"
     ]
    },
    {
     "data": {
      "text/html": [
       "<div>\n",
       "<table border=\"1\" class=\"dataframe\">\n",
       "  <thead>\n",
       "    <tr style=\"text-align: right;\">\n",
       "      <th></th>\n",
       "      <th>0</th>\n",
       "      <th>1</th>\n",
       "    </tr>\n",
       "  </thead>\n",
       "  <tbody>\n",
       "    <tr>\n",
       "      <th>0</th>\n",
       "      <td>37315</td>\n",
       "      <td>3</td>\n",
       "    </tr>\n",
       "    <tr>\n",
       "      <th>1</th>\n",
       "      <td>31</td>\n",
       "      <td>0</td>\n",
       "    </tr>\n",
       "  </tbody>\n",
       "</table>\n",
       "</div>"
      ],
      "text/plain": [
       "       0  1\n",
       "0  37315  3\n",
       "1     31  0"
      ]
     },
     "execution_count": 43,
     "metadata": {},
     "output_type": "execute_result"
    }
   ],
   "source": [
    "knn1 = make_pipeline(StandardScaler(),\n",
    "                     PCA(),\n",
    "                     KNeighborsClassifier())\n",
    "knn1.fit(X_train, y_train)\n",
    "print(\"\\n\")\n",
    "Modeling.evaluate_model(knn1, X_test, y_test)"
   ]
  },
  {
   "cell_type": "code",
   "execution_count": 44,
   "metadata": {},
   "outputs": [
    {
     "name": "stdout",
     "output_type": "stream",
     "text": [
      "\n",
      "\n",
      "Accuracy:  0.996653190179\n",
      "F1:  0.031007751938\n"
     ]
    },
    {
     "data": {
      "text/html": [
       "<div>\n",
       "<table border=\"1\" class=\"dataframe\">\n",
       "  <thead>\n",
       "    <tr style=\"text-align: right;\">\n",
       "      <th></th>\n",
       "      <th>0</th>\n",
       "      <th>1</th>\n",
       "    </tr>\n",
       "  </thead>\n",
       "  <tbody>\n",
       "    <tr>\n",
       "      <th>0</th>\n",
       "      <td>37222</td>\n",
       "      <td>96</td>\n",
       "    </tr>\n",
       "    <tr>\n",
       "      <th>1</th>\n",
       "      <td>29</td>\n",
       "      <td>2</td>\n",
       "    </tr>\n",
       "  </tbody>\n",
       "</table>\n",
       "</div>"
      ],
      "text/plain": [
       "       0   1\n",
       "0  37222  96\n",
       "1     29   2"
      ]
     },
     "execution_count": 44,
     "metadata": {},
     "output_type": "execute_result"
    }
   ],
   "source": [
    "knn2 = make_pipeline(StandardScaler(),\n",
    "                     PCA(),\n",
    "                     KNeighborsClassifier())\n",
    "knn2.fit(X_train_resampled, y_train_resampled)\n",
    "print(\"\\n\")\n",
    "Modeling.evaluate_model(knn2, X_test, y_test)"
   ]
  },
  {
   "cell_type": "code",
   "execution_count": 45,
   "metadata": {},
   "outputs": [
    {
     "name": "stdout",
     "output_type": "stream",
     "text": [
      "\n",
      "\n",
      "Accuracy:  0.999143216686\n",
      "F1:  0.0\n"
     ]
    },
    {
     "data": {
      "text/html": [
       "<div>\n",
       "<table border=\"1\" class=\"dataframe\">\n",
       "  <thead>\n",
       "    <tr style=\"text-align: right;\">\n",
       "      <th></th>\n",
       "      <th>0</th>\n",
       "      <th>1</th>\n",
       "    </tr>\n",
       "  </thead>\n",
       "  <tbody>\n",
       "    <tr>\n",
       "      <th>0</th>\n",
       "      <td>37317</td>\n",
       "      <td>1</td>\n",
       "    </tr>\n",
       "    <tr>\n",
       "      <th>1</th>\n",
       "      <td>31</td>\n",
       "      <td>0</td>\n",
       "    </tr>\n",
       "  </tbody>\n",
       "</table>\n",
       "</div>"
      ],
      "text/plain": [
       "       0  1\n",
       "0  37317  1\n",
       "1     31  0"
      ]
     },
     "execution_count": 45,
     "metadata": {},
     "output_type": "execute_result"
    }
   ],
   "source": [
    "xgb1 = make_pipeline(StandardScaler(),\n",
    "                     PCA(),\n",
    "                     XGBClassifier())\n",
    "xgb1.fit(X_train, y_train)\n",
    "print(\"\\n\")\n",
    "Modeling.evaluate_model(xgb1, X_test, y_test)"
   ]
  },
  {
   "cell_type": "code",
   "execution_count": 46,
   "metadata": {},
   "outputs": [
    {
     "name": "stdout",
     "output_type": "stream",
     "text": [
      "\n",
      "\n",
      "Accuracy:  0.962033789392\n",
      "F1:  0.0193637621024\n"
     ]
    },
    {
     "data": {
      "text/html": [
       "<div>\n",
       "<table border=\"1\" class=\"dataframe\">\n",
       "  <thead>\n",
       "    <tr style=\"text-align: right;\">\n",
       "      <th></th>\n",
       "      <th>0</th>\n",
       "      <th>1</th>\n",
       "    </tr>\n",
       "  </thead>\n",
       "  <tbody>\n",
       "    <tr>\n",
       "      <th>0</th>\n",
       "      <td>35917</td>\n",
       "      <td>1401</td>\n",
       "    </tr>\n",
       "    <tr>\n",
       "      <th>1</th>\n",
       "      <td>17</td>\n",
       "      <td>14</td>\n",
       "    </tr>\n",
       "  </tbody>\n",
       "</table>\n",
       "</div>"
      ],
      "text/plain": [
       "       0     1\n",
       "0  35917  1401\n",
       "1     17    14"
      ]
     },
     "execution_count": 46,
     "metadata": {},
     "output_type": "execute_result"
    }
   ],
   "source": [
    "xgb2 = make_pipeline(StandardScaler(),\n",
    "                     PCA(),\n",
    "                     XGBClassifier())\n",
    "xgb2.fit(X_train_resampled, y_train_resampled)\n",
    "print(\"\\n\")\n",
    "Modeling.evaluate_model(xgb2, X_test, y_test)"
   ]
  },
  {
   "cell_type": "markdown",
   "metadata": {},
   "source": [
    "# Our best model: DecisionTreeClassifier on resampled data"
   ]
  }
 ],
 "metadata": {
  "kernelspec": {
   "display_name": "Python 3",
   "language": "python",
   "name": "python3"
  },
  "language_info": {
   "codemirror_mode": {
    "name": "ipython",
    "version": 3
   },
   "file_extension": ".py",
   "mimetype": "text/x-python",
   "name": "python",
   "nbconvert_exporter": "python",
   "pygments_lexer": "ipython3",
   "version": "3.6.3"
  }
 },
 "nbformat": 4,
 "nbformat_minor": 2
}
