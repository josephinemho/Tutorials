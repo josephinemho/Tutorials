{
 "cells": [
  {
   "cell_type": "markdown",
   "metadata": {},
   "source": [
    "https://www.interviewcake.com/"
   ]
  },
  {
   "cell_type": "code",
   "execution_count": 104,
   "metadata": {},
   "outputs": [],
   "source": [
    "stock_prices = [10, 7, 5, 8, 11, 9]"
   ]
  },
  {
   "cell_type": "code",
   "execution_count": 85,
   "metadata": {},
   "outputs": [],
   "source": [
    "def get_max_profit(prices):\n",
    "    my_min = min(prices)\n",
    "    my_max = max(prices)\n",
    "    print(\"Your max profit is\",my_max-my_min)"
   ]
  },
  {
   "cell_type": "code",
   "execution_count": 86,
   "metadata": {},
   "outputs": [
    {
     "name": "stdout",
     "output_type": "stream",
     "text": [
      "Your max profit is 6\n"
     ]
    }
   ],
   "source": [
    "get_max_profit(stock_prices)"
   ]
  },
  {
   "cell_type": "code",
   "execution_count": 87,
   "metadata": {},
   "outputs": [],
   "source": [
    "def get_max_profit(prices):\n",
    "    my_min = 0\n",
    "    my_max = 0\n",
    "    for i in prices:\n",
    "        if i < my_min:\n",
    "            my_min == i\n",
    "        if i > my_max:\n",
    "            my_max == i\n",
    "    print(\"Your max profit is\",my_max-my_min)"
   ]
  },
  {
   "cell_type": "markdown",
   "metadata": {},
   "source": [
    "You can't just take the difference between the highest price and the lowest price, because the highest price might come before the lowest price. And you have to buy before you can sell."
   ]
  },
  {
   "cell_type": "code",
   "execution_count": 98,
   "metadata": {},
   "outputs": [],
   "source": [
    "def get_max_profit(prices):\n",
    "    my_min = prices[0]\n",
    "    my_max = prices[0]\n",
    "    for i in prices:\n",
    "        if i < my_min:\n",
    "            my_min = i\n",
    "        if i > my_max:\n",
    "            my_max = i\n",
    "    print(\"Your max profit is\",my_max-my_min)"
   ]
  },
  {
   "cell_type": "code",
   "execution_count": 99,
   "metadata": {},
   "outputs": [
    {
     "name": "stdout",
     "output_type": "stream",
     "text": [
      "Your max profit is 6\n"
     ]
    }
   ],
   "source": [
    "get_max_profit(stock_prices)"
   ]
  },
  {
   "cell_type": "code",
   "execution_count": 100,
   "metadata": {},
   "outputs": [],
   "source": [
    "stock_prices = [10,9,8,7,6]"
   ]
  },
  {
   "cell_type": "code",
   "execution_count": 101,
   "metadata": {},
   "outputs": [
    {
     "name": "stdout",
     "output_type": "stream",
     "text": [
      "Your max profit is 4\n"
     ]
    }
   ],
   "source": [
    "get_max_profit(stock_prices)"
   ]
  },
  {
   "cell_type": "code",
   "execution_count": 102,
   "metadata": {},
   "outputs": [],
   "source": [
    "def get_max_profit(prices):\n",
    "    my_min = prices[0]\n",
    "    max_profit = 0\n",
    "    for current_price in prices:\n",
    "        my_min = min(my_min, current_price)\n",
    "        potential_profit = current_price - my_min\n",
    "        max_profit = max(my_max, potential_profit)\n",
    "    print(max_profit)"
   ]
  },
  {
   "cell_type": "code",
   "execution_count": 105,
   "metadata": {},
   "outputs": [
    {
     "name": "stdout",
     "output_type": "stream",
     "text": [
      "11\n"
     ]
    }
   ],
   "source": [
    "get_max_profit(stock_prices)"
   ]
  },
  {
   "cell_type": "code",
   "execution_count": 106,
   "metadata": {},
   "outputs": [
    {
     "name": "stdout",
     "output_type": "stream",
     "text": [
      "11\n"
     ]
    }
   ],
   "source": [
    "my_min = stock_prices[0]\n",
    "max_profit = 0\n",
    "for current_price in stock_prices:\n",
    "    my_min = min(my_min, current_price)\n",
    "    potential_profit = current_price - my_min\n",
    "    max_profit = max(my_max, potential_profit)\n",
    "print(max_profit)"
   ]
  },
  {
   "cell_type": "code",
   "execution_count": 111,
   "metadata": {},
   "outputs": [
    {
     "name": "stdout",
     "output_type": "stream",
     "text": [
      "10\n",
      "7\n",
      "5\n",
      "8\n",
      "11\n",
      "9\n"
     ]
    }
   ],
   "source": [
    "for current_price in stock_prices:\n",
    "    print(current_price)"
   ]
  },
  {
   "cell_type": "code",
   "execution_count": 109,
   "metadata": {},
   "outputs": [
    {
     "data": {
      "text/plain": [
       "5"
      ]
     },
     "execution_count": 109,
     "metadata": {},
     "output_type": "execute_result"
    }
   ],
   "source": [
    "min(my_min, current_price)"
   ]
  },
  {
   "cell_type": "code",
   "execution_count": null,
   "metadata": {},
   "outputs": [],
   "source": []
  },
  {
   "cell_type": "code",
   "execution_count": 139,
   "metadata": {},
   "outputs": [],
   "source": [
    "my_array = [1,7,3,4]"
   ]
  },
  {
   "cell_type": "code",
   "execution_count": 140,
   "metadata": {},
   "outputs": [],
   "source": [
    "solution = []\n",
    "for i in my_array:\n",
    "    for j in my_array:\n",
    "        if i != j:\n",
    "            try:\n",
    "                product = my_array[i]*my_array[j]\n",
    "                solution.append(product)\n",
    "            except:\n",
    "                pass"
   ]
  },
  {
   "cell_type": "code",
   "execution_count": 141,
   "metadata": {},
   "outputs": [
    {
     "data": {
      "text/plain": [
       "[28, 28]"
      ]
     },
     "execution_count": 141,
     "metadata": {},
     "output_type": "execute_result"
    }
   ],
   "source": [
    "solution"
   ]
  },
  {
   "cell_type": "code",
   "execution_count": 117,
   "metadata": {},
   "outputs": [
    {
     "name": "stdout",
     "output_type": "stream",
     "text": [
      "1 1\n",
      "1 7\n",
      "1 3\n",
      "1 4\n",
      "7 1\n",
      "7 7\n",
      "7 3\n",
      "7 4\n",
      "3 1\n",
      "3 7\n",
      "3 3\n",
      "3 4\n",
      "4 1\n",
      "4 7\n",
      "4 3\n",
      "4 4\n"
     ]
    }
   ],
   "source": [
    "for i in my_array:\n",
    "    for j in my_array:\n",
    "        print(i,j)"
   ]
  },
  {
   "cell_type": "code",
   "execution_count": null,
   "metadata": {},
   "outputs": [],
   "source": []
  }
 ],
 "metadata": {
  "kernelspec": {
   "display_name": "Python 3",
   "language": "python",
   "name": "python3"
  },
  "language_info": {
   "codemirror_mode": {
    "name": "ipython",
    "version": 3
   },
   "file_extension": ".py",
   "mimetype": "text/x-python",
   "name": "python",
   "nbconvert_exporter": "python",
   "pygments_lexer": "ipython3",
   "version": "3.7.1"
  }
 },
 "nbformat": 4,
 "nbformat_minor": 2
}
