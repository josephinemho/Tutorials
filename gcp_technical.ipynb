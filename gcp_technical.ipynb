{
 "cells": [
  {
   "cell_type": "markdown",
   "metadata": {},
   "source": [
    "# Given the following pseudocode:\n",
    "```\n",
    "A sample state of ‘a’: \n",
    "[[2, NULL, 2, NULL], \n",
    "[2, NULL, 2, NULL], \n",
    "[NULL, NULL, NULL, NULL], \n",
    "[NULL, NULL, NULL, NULL]]\n",
    "FUNCTION foo()\n",
    "    FOR y = 0 to 3 \n",
    "        FOR x = 0 to 3\n",
    "\t    IF a[x+1][y] != NULL\n",
    "\t        IF a[x+1][y] = a[x][y]:\n",
    "\t            a[x][y] := a[x][y]*2\n",
    "\t            a[x+1][y] := NULL\n",
    "                 END IF\n",
    "\t         IF a[x][y] = NULL\n",
    "                     a[x][y] := a[x+1][y]\n",
    "\t             a[x+1][y] := NULL\n",
    "                 END IF\n",
    "              END IF\n",
    "          END FOR\n",
    "    END FOR\n",
    "END FUNCTION\n",
    "```"
   ]
  },
  {
   "cell_type": "markdown",
   "metadata": {},
   "source": [
    "### First explore and understand the code..."
   ]
  },
  {
   "cell_type": "markdown",
   "metadata": {},
   "source": [
    "https://stackoverflow.com/questions/50338479/microsoft-technical-interview-matrix-algorithm\n",
    "\n",
    "Set up your matrix:\n",
    "```\n",
    "A sample state of ‘a’: \n",
    "[[2, NULL, 2, NULL], \n",
    "[2, NULL, 2, NULL], \n",
    "[NULL, NULL, NULL, NULL], \n",
    "[NULL, NULL, NULL, NULL]]\n",
    "```\n",
    "Create your function foo:\n",
    "```\n",
    "FUNCTION foo()\n",
    "```\n",
    "For every instance of y, there's 3 instances of x (which we want, because there are four rows and we have to take into account `x+1`) :\n",
    "```\n",
    "    FOR y = 0 to 3 \n",
    "        FOR x = 0 to 3\n",
    "```\n",
    "If our `a[x+1][y]` (bottom) value is not null and it is equal to the previous (top) value, then multiply the top value by 2 and make our bottom value null. \n",
    "```\n",
    "            IF a[x+1][y] != NULL\n",
    "                IF a[x+1][y] = a[x][y]:\n",
    "                    a[x][y] := a[x][y]*2\n",
    "                    a[x+1][y] := NULL\n",
    "                END IF\n",
    "```\n",
    "If the top value is null, make it equal to the bottom value (if it is not null).  \n",
    "```\n",
    "                IF a[x][y] = NULL\n",
    "                    a[x][y] := a[x+1][y]\n",
    "                    a[x+1][y] := NULL\n",
    "                    END IF\n",
    "              END IF\n",
    "          END FOR\n",
    "    END FOR\n",
    "END FUNCTION\n",
    "```\n",
    "\n",
    "In other words, the code is comparing each element with the one below it. \n",
    "* Nothing happens unless the lower element is NULL. \n",
    "* If the two elements are equal, then the lower one is replaced with NULL and the upper one becomes twice as large. \n",
    "* If the top element is NULL, then the lower non-NULL element \"moves\" to the top element's place. "
   ]
  },
  {
   "cell_type": "code",
   "execution_count": 1,
   "metadata": {},
   "outputs": [],
   "source": [
    "import numpy as np"
   ]
  },
  {
   "cell_type": "code",
   "execution_count": 2,
   "metadata": {},
   "outputs": [
    {
     "data": {
      "text/plain": [
       "[[2, nan, 2, nan],\n",
       " [2, nan, 2, nan],\n",
       " [nan, nan, nan, nan],\n",
       " [nan, nan, nan, nan]]"
      ]
     },
     "execution_count": 2,
     "metadata": {},
     "output_type": "execute_result"
    }
   ],
   "source": [
    "# Original sample data\n",
    "\n",
    "sample_data = [[2, np.nan, 2, np.nan],\n",
    "               [2, np.nan, 2, np.nan],\n",
    "               [np.nan, np.nan, np.nan, np.nan],\n",
    "               [np.nan, np.nan, np.nan, np.nan]]\n",
    "\n",
    "sample_data"
   ]
  },
  {
   "cell_type": "code",
   "execution_count": 76,
   "metadata": {},
   "outputs": [
    {
     "data": {
      "text/plain": [
       "[[111, 222, 333, 444],\n",
       " [555, nan, 777, 888],\n",
       " [999, 999, nan, 234],\n",
       " [432, 345, 111, 789]]"
      ]
     },
     "execution_count": 76,
     "metadata": {},
     "output_type": "execute_result"
    }
   ],
   "source": [
    "# Test data\n",
    "\n",
    "test_data = [[111, 222, 333, 444],\n",
    "             [555, np.nan, 777, 888],\n",
    "             [999, 999, np.nan, 234],\n",
    "             [432, 345, 111, 789]]\n",
    "\n",
    "test_data"
   ]
  },
  {
   "cell_type": "code",
   "execution_count": 77,
   "metadata": {},
   "outputs": [
    {
     "data": {
      "text/plain": [
       "nan"
      ]
     },
     "execution_count": 77,
     "metadata": {},
     "output_type": "execute_result"
    }
   ],
   "source": [
    "# Top value\n",
    "\n",
    "test_data[x][y]"
   ]
  },
  {
   "cell_type": "code",
   "execution_count": 78,
   "metadata": {},
   "outputs": [
    {
     "data": {
      "text/plain": [
       "999"
      ]
     },
     "execution_count": 78,
     "metadata": {},
     "output_type": "execute_result"
    }
   ],
   "source": [
    "# Bottom value\n",
    "\n",
    "test_data[x+1][y]"
   ]
  },
  {
   "cell_type": "code",
   "execution_count": 79,
   "metadata": {},
   "outputs": [
    {
     "data": {
      "text/plain": [
       "True"
      ]
     },
     "execution_count": 79,
     "metadata": {},
     "output_type": "execute_result"
    }
   ],
   "source": [
    "np.isnan(test_data[x][y])"
   ]
  },
  {
   "cell_type": "code",
   "execution_count": 80,
   "metadata": {},
   "outputs": [],
   "source": [
    "for y in np.arange(0,2):\n",
    "    for x in np.arange(0,2):\n",
    "        # If bottom value isn't NULL, and if top and bottom value match, \n",
    "        # multiply top value by 2 and make bottom value NULL\n",
    "        if np.isnan(test_data[x+1][y]) == False:\n",
    "            if test_data[x+1][y] == test_data[x][y]:\n",
    "                test_data[x][y] = test_data[x][y]*2\n",
    "                test_data[x+1][y] = np.nan\n",
    "        # If top value is NULL, move the bottom value up\n",
    "        # and make bottom value NULL\n",
    "            if np.isnan(test_data[x][y]):\n",
    "                test_data[x][y] = test_data[x+1][y]\n",
    "                test_data[x+1][y] = np.nan"
   ]
  },
  {
   "cell_type": "code",
   "execution_count": 81,
   "metadata": {},
   "outputs": [
    {
     "data": {
      "text/plain": [
       "[[111, 222, 333, 444],\n",
       " [555, 999, 777, 888],\n",
       " [999, nan, nan, 234],\n",
       " [432, 345, 111, 789]]"
      ]
     },
     "execution_count": 81,
     "metadata": {},
     "output_type": "execute_result"
    }
   ],
   "source": [
    "# New test data\n",
    "\n",
    "test_data"
   ]
  },
  {
   "cell_type": "markdown",
   "metadata": {},
   "source": [
    "## 1. What is the issue with the above code and how would you fix it?\n",
    "For `IF a[x+1][y] != NULL`, the condition will produce an array index out-of-bounds error when x equals 3."
   ]
  },
  {
   "cell_type": "code",
   "execution_count": 70,
   "metadata": {},
   "outputs": [
    {
     "name": "stdout",
     "output_type": "stream",
     "text": [
      "777\n",
      "111\n",
      "nan\n"
     ]
    },
    {
     "ename": "IndexError",
     "evalue": "list index out of range",
     "output_type": "error",
     "traceback": [
      "\u001b[0;31m\u001b[0m",
      "\u001b[0;31mIndexError\u001b[0mTraceback (most recent call last)",
      "\u001b[0;32m<ipython-input-70-4c44b5442db2>\u001b[0m in \u001b[0;36m<module>\u001b[0;34m()\u001b[0m\n\u001b[1;32m      6\u001b[0m \u001b[0mprint\u001b[0m\u001b[0;34m(\u001b[0m\u001b[0mtest_data\u001b[0m\u001b[0;34m[\u001b[0m\u001b[0mx\u001b[0m\u001b[0;34m+\u001b[0m\u001b[0;36m1\u001b[0m\u001b[0;34m]\u001b[0m\u001b[0;34m[\u001b[0m\u001b[0my\u001b[0m\u001b[0;34m]\u001b[0m\u001b[0;34m)\u001b[0m\u001b[0;34m\u001b[0m\u001b[0m\n\u001b[1;32m      7\u001b[0m \u001b[0mx\u001b[0m \u001b[0;34m=\u001b[0m \u001b[0;36m3\u001b[0m\u001b[0;34m\u001b[0m\u001b[0m\n\u001b[0;32m----> 8\u001b[0;31m \u001b[0mprint\u001b[0m\u001b[0;34m(\u001b[0m\u001b[0mtest_data\u001b[0m\u001b[0;34m[\u001b[0m\u001b[0mx\u001b[0m\u001b[0;34m+\u001b[0m\u001b[0;36m1\u001b[0m\u001b[0;34m]\u001b[0m\u001b[0;34m[\u001b[0m\u001b[0my\u001b[0m\u001b[0;34m]\u001b[0m\u001b[0;34m)\u001b[0m\u001b[0;34m\u001b[0m\u001b[0m\n\u001b[0m",
      "\u001b[0;31mIndexError\u001b[0m: list index out of range"
     ]
    }
   ],
   "source": [
    "x = 0\n",
    "print(test_data[x+1][y])\n",
    "x = 1\n",
    "print(test_data[x+1][y])\n",
    "x = 2\n",
    "print(test_data[x+1][y])\n",
    "x = 3\n",
    "print(test_data[x+1][y])"
   ]
  },
  {
   "cell_type": "markdown",
   "metadata": {},
   "source": [
    "## 2. Once corrected, what does function foo do? Please focus on the result of the function, not the details of the implementation.\n",
    "If bottom value isn't NULL, then: if top and bottom value match, multiply top value by 2 and make bottom value NULL. If top value is NULL, move the bottom value up and make bottom value NULL."
   ]
  },
  {
   "cell_type": "markdown",
   "metadata": {},
   "source": [
    "## 3. How could you make foo more generic? Explain up to three possible generalization directions and describe a strategy for each, no need to write the code!\n",
    "1. Include `x-1` so that the values can move down instead of just up. \n",
    "2. Include `y+1` and `y-1` so that the values can move side-to-side instead of just up and down. \n",
    "3. You could keep the size of the matrix undefined so that you can accommodate different sizes of matrices, incorporating `len`."
   ]
  }
 ],
 "metadata": {
  "kernelspec": {
   "display_name": "Python 3",
   "language": "python",
   "name": "python3"
  },
  "language_info": {
   "codemirror_mode": {
    "name": "ipython",
    "version": 3
   },
   "file_extension": ".py",
   "mimetype": "text/x-python",
   "name": "python",
   "nbconvert_exporter": "python",
   "pygments_lexer": "ipython3",
   "version": "3.6.3"
  }
 },
 "nbformat": 4,
 "nbformat_minor": 2
}
