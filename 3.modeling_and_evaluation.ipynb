{
 "cells": [
  {
   "cell_type": "markdown",
   "metadata": {},
   "source": [
    "## Procedure\n",
    "\n",
    "1. Clean and transform data\n",
    "2. Exploratory Data Analysis (EDA)\n",
    "3. **Modeling & evaluation**\n",
    "4. Conclusion\n",
    "5. Clean code with classes & functions"
   ]
  },
  {
   "cell_type": "code",
   "execution_count": 9,
   "metadata": {},
   "outputs": [],
   "source": [
    "import pandas as pd\n",
    "from datetime import datetime\n",
    "from sklearn.externals import joblib\n",
    "from sklearn.model_selection import train_test_split\n",
    "\n",
    "from sklearn.model_selection import GridSearchCV\n",
    "from sklearn.model_selection import ShuffleSplit\n",
    "\n",
    "from sklearn.neighbors import KNeighborsClassifier\n",
    "from sklearn.tree import DecisionTreeClassifier\n",
    "from sklearn.ensemble import RandomForestClassifier"
   ]
  },
  {
   "cell_type": "code",
   "execution_count": 2,
   "metadata": {},
   "outputs": [],
   "source": [
    "features_transformed = joblib.load('../work/data/features_transformed')\n",
    "target = joblib.load('../work/data/target')"
   ]
  },
  {
   "cell_type": "markdown",
   "metadata": {},
   "source": [
    "## train-test-split"
   ]
  },
  {
   "cell_type": "code",
   "execution_count": 4,
   "metadata": {},
   "outputs": [],
   "source": [
    "X_train, X_test, y_train, y_test = train_test_split(features_transformed, target, test_size=.3, random_state=88)"
   ]
  },
  {
   "cell_type": "markdown",
   "metadata": {},
   "source": [
    "### KNN"
   ]
  },
  {
   "cell_type": "code",
   "execution_count": null,
   "metadata": {},
   "outputs": [],
   "source": [
    "start = datetime.now()\n",
    "\n",
    "params = {\n",
    "    'n_neighbors': list(range(2,30,2))\n",
    "}\n",
    "\n",
    "knn = GridSearchCV(KNeighborsClassifier(), param_grid=params, cv=ShuffleSplit(random_state=88))\n",
    "knn.fit(X_train, y_train)\n",
    "display(pd.DataFrame(gs_knn.cv_results_))\n",
    "print(gs_knn.cv_results_['mean_test_score'])\n",
    "\n",
    "print(\"Time: \", datetime.now() - start)"
   ]
  },
  {
   "cell_type": "code",
   "execution_count": null,
   "metadata": {},
   "outputs": [],
   "source": [
    "print('KNN train score: {}'.format(knn.score(X_train, y_train)))\n",
    "print('KNN test score: {}'.format(knn.score(X_test, y_test)))"
   ]
  },
  {
   "cell_type": "markdown",
   "metadata": {},
   "source": [
    "## Decision Tree"
   ]
  },
  {
   "cell_type": "code",
   "execution_count": null,
   "metadata": {},
   "outputs": [],
   "source": [
    "start = datetime.now()\n",
    "\n",
    "params = {\n",
    "    'max_depth':[1,2,4,8,16,17, None],\n",
    "    'min_samples_leaf':[1,5,10,15,20],\n",
    "}\n",
    "\n",
    "dt = DecisionTreeRegressor()\n",
    "dt.fit(X_train, y_train)"
   ]
  },
  {
   "cell_type": "code",
   "execution_count": null,
   "metadata": {},
   "outputs": [],
   "source": [
    "print('DT train score: {}'.format(dt.score(X_train, y_train)))\n",
    "print('DT test score: {}'.format(dt.score(X_test, y_test)))"
   ]
  },
  {
   "cell_type": "code",
   "execution_count": null,
   "metadata": {},
   "outputs": [],
   "source": [
    "optimal_max_depth = dt.best_estimator_.max_depth\n",
    "optimal_max_depth"
   ]
  },
  {
   "cell_type": "code",
   "execution_count": null,
   "metadata": {},
   "outputs": [],
   "source": [
    "cv_results = pd.DataFrame(dt.cv_results_)\n",
    "\n",
    "plt.plot(cv_results_df['param_max_depth'], cv_results_df['mean_test_score'], c='g', label='test')\n",
    "plt.plot(cv_results_df['param_max_depth'], cv_results_df['mean_train_score'], c='b', label='train')\n",
    "plt.axvline(optimal_max_depth, c='r')\n",
    "plt.legend()"
   ]
  },
  {
   "cell_type": "markdown",
   "metadata": {},
   "source": [
    "`cv_results_df['mean_train_score']` are the means of what you get when applied to CROSS-VALIDATED (hold-out) test data. This is why it's different from the `.score` results above. The `.score` results are the means of what you actually get when applied to REAL TEST data."
   ]
  },
  {
   "cell_type": "code",
   "execution_count": null,
   "metadata": {},
   "outputs": [],
   "source": []
  }
 ],
 "metadata": {
  "kernelspec": {
   "display_name": "Python 3",
   "language": "python",
   "name": "python3"
  },
  "language_info": {
   "codemirror_mode": {
    "name": "ipython",
    "version": 3
   },
   "file_extension": ".py",
   "mimetype": "text/x-python",
   "name": "python",
   "nbconvert_exporter": "python",
   "pygments_lexer": "ipython3",
   "version": "3.6.3"
  }
 },
 "nbformat": 4,
 "nbformat_minor": 2
}
