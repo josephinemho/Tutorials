{
 "cells": [
  {
   "cell_type": "markdown",
   "metadata": {},
   "source": [
    "# Setting up your environment (on your local computer)"
   ]
  },
  {
   "cell_type": "markdown",
   "metadata": {},
   "source": [
    "**1. Create a folder or clone a git repository.**<br>\n",
    "Normally, you would create a folder on your local computer to work from.<br>\n",
    "* ```mkdir myproject```<br>\n",
    "\n",
    "However, this time you are going to ```cd``` to your Desktop and clone the Git repository for this course. <br>\n",
    "* ```git clone git@github.com:josephinemho/Tutorials.git```\n",
    "* ```ls``` (check to see if all files are cloned)\n",
    "* ```git remote -v``` (check to see if the remote is attached)\n",
    "\n",
    "<br>\n",
    "**2. From the cloned folder, pull the Jupyter notebook Docker image.**<br>\n",
    "We will use an image found on Docker Hub and call our Docker container \"myproject.\" *You can call this something else if you like.*\n",
    "* ```docker pull josephinemho/custom-dockerfile```<vr>\n",
    "* ```docker run -it -v `pwd`:/home/jovyan -p 8888:8888 --name datascience josephinemho/custom-dockerfile```<br>\n",
    "\n",
    "**3. Hold down the ```command``` key and click on the link to open the Jupyter notebook server in your browser.**<br>\n",
    "Alternatively, you can use the following command to get the link:\n",
    "* ```docker exec -it myproject jupyter notebook list```\n",
    "\n",
    "You should be able to access the cloned repository and work on them using Jupyter notebooks."
   ]
  },
  {
   "cell_type": "markdown",
   "metadata": {},
   "source": [
    "------\n",
    "# Setting up your environment (on a remote server)\n",
    "Note: You should already have a remote server created (e.g. VMware, AWS, etc.)"
   ]
  },
  {
   "cell_type": "markdown",
   "metadata": {},
   "source": [
    "**1. SSH into your remote server. Mine is called \"jmho-sandbox\"**<br>\n",
    "* `ssh jmho-sandbox` \n",
    "* `sudo -i`\n",
    "\n",
    "**2. Install Docker on your remote server**<br>\n",
    "* `yum install docker` (use `apt-get` for Ubuntu)\n",
    "* `service docker restart`\n",
    "* `docker ps` (there should be no running containers)\n",
    "\n",
    "**3. Create a folder or clone a git repository.**<br>\n",
    "Normally, you would create a folder on your local computer to work from.<br>\n",
    "* `mkdir myproject`<br>\n",
    "\n",
    "However, this time you are going to clone a Git repository instead. First,you will have to generate a public/private rsa key pair.<br>\n",
    "* `ssh-keygen -t rsa -b 4096`\n",
    "* Hit 'enter' a couple of times\n",
    "* `cat ls ~/.ssh/id_rsa.pub`\n",
    "* Copy and paste your public key to your Github in Settings --> SSH and GPG keys --> New SSH key\n",
    "* Now clone the Github repository. Go back to the command line and type:\n",
    "    * `git clone git@github.com:josephinemho/Tutorials.git` (if git is not installed, type `yum install git`)\n",
    "    * `cd` into the folder\n",
    "    * `ls` (check to see if all files are cloned)\n",
    "    * `git remote -v` (check to see if the remote is attached)\n",
    "\n",
    "**4. From the cloned folder, pull the Jupyter notebook Docker image.**<br>\n",
    "We will use an image found on Docker Hub and call our Docker container \"myproject.\" *You can call this something else if you like.*\n",
    "* ```docker run -it -v `pwd`:/home/jovyan/work -p 8888:8888 --name myproject josephinemho/custom-dockerfile```<br>\n",
    "\n",
    "**3. Hold down the copy the link to your browser and replace \"localhost\" with the public IP address of your remote server.**<br>\n",
    "You can use the following command to get the link, but remember to replace \"localhost\" with the IP address (in the browser):\n",
    "* ```docker exec -it myproject jupyter notebook list```\n",
    "\n",
    "You should be able to access the cloned repository and work on them using Jupyter notebooks."
   ]
  },
  {
   "cell_type": "markdown",
   "metadata": {},
   "source": [
    "------\n",
    "# Optional stuff"
   ]
  },
  {
   "cell_type": "markdown",
   "metadata": {},
   "source": [
    "### Not having to use `sudo` before every Docker command (you only need to do this once)\n",
    "To use Docker without typing `sudo` in front of everything, add a Docker group (if it doesn’t already exist)\n",
    "* `sudo groupadd docker`\n",
    "* `sudo gpasswd -a <ubuntu> docker`\n",
    "* Log out and log back in again"
   ]
  },
  {
   "cell_type": "markdown",
   "metadata": {},
   "source": [
    "### Customizing aliases (not recommended for beginners)\n",
    "You can customize aliases to save time, so you don't have to type out full commands. However, you'll learn better by typing full commands out, which is why this is not recommended for beginners.\n",
    "* `vi .bashrc`\n",
    "* Add and save `alias myproject='docker start myproject; docker exec -it myproject jupyter notebook list'`\n",
    "* Log out and log back in again\n",
    "\n",
    "Now, when you type `myproject`, those commands will automatically run and you'll generate your link by just typing one word! "
   ]
  },
  {
   "cell_type": "markdown",
   "metadata": {
    "collapsed": true
   },
   "source": [
    "------\n",
    "# Pulling from the git repo"
   ]
  },
  {
   "cell_type": "markdown",
   "metadata": {},
   "source": [
    "Before each lesson, pull updates from the git repo by doing the following:\n",
    "* ```git pull origin master```"
   ]
  }
 ],
 "metadata": {
  "kernelspec": {
   "display_name": "Python 3",
   "language": "python",
   "name": "python3"
  },
  "language_info": {
   "codemirror_mode": {
    "name": "ipython",
    "version": 3
   },
   "file_extension": ".py",
   "mimetype": "text/x-python",
   "name": "python",
   "nbconvert_exporter": "python",
   "pygments_lexer": "ipython3",
   "version": "3.6.3"
  }
 },
 "nbformat": 4,
 "nbformat_minor": 2
}
